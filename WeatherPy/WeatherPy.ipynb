{
 "cells": [
  {
   "cell_type": "markdown",
   "metadata": {},
   "source": [
    "# WeatherPy\n",
    "----\n",
    "\n",
    "#### Note\n",
    "* Instructions have been included for each segment. You do not have to follow them exactly, but they are included to help you think through the steps."
   ]
  },
  {
   "cell_type": "code",
   "execution_count": 1,
   "metadata": {
    "scrolled": true
   },
   "outputs": [],
   "source": [
    "# Dependencies and Setup\n",
    "import matplotlib.pyplot as plt\n",
    "import pandas as pd\n",
    "import numpy as np\n",
    "import requests\n",
    "import time\n",
    "import datetime\n",
    "from scipy.stats import linregress\n",
    "\n",
    "# Import API key\n",
    "from api_keys import weather_api_key\n",
    "\n",
    "# Incorporated citipy to determine city based on latitude and longitude\n",
    "from citipy import citipy\n",
    "\n",
    "# Output File (CSV)\n",
    "output_data_file = \"output_data/cities.csv\"\n",
    "\n",
    "# Range of latitudes and longitudes\n",
    "lat_range = (-90, 90)\n",
    "lng_range = (-180, 180)"
   ]
  },
  {
   "cell_type": "markdown",
   "metadata": {},
   "source": [
    "## Generate Cities List"
   ]
  },
  {
   "cell_type": "code",
   "execution_count": 2,
   "metadata": {},
   "outputs": [
    {
     "data": {
      "text/plain": [
       "616"
      ]
     },
     "execution_count": 2,
     "metadata": {},
     "output_type": "execute_result"
    }
   ],
   "source": [
    "# List for holding lat_lngs and cities\n",
    "lat_lngs = []\n",
    "cities = []\n",
    "\n",
    "# Create a set of random lat and lng combinations\n",
    "lats = np.random.uniform(lat_range[0], lat_range[1], size=1500)\n",
    "lngs = np.random.uniform(lng_range[0], lng_range[1], size=1500)\n",
    "lat_lngs = zip(lats, lngs)\n",
    "\n",
    "# Identify nearest city for each lat, lng combination\n",
    "for lat_lng in lat_lngs:\n",
    "    city = citipy.nearest_city(lat_lng[0], lat_lng[1]).city_name\n",
    "    \n",
    "    # If the city is unique, then add it to a our cities list\n",
    "    if city not in cities:\n",
    "        cities.append(city)\n",
    "\n",
    "# Print the city count to confirm sufficient count\n",
    "len(cities)"
   ]
  },
  {
   "cell_type": "markdown",
   "metadata": {},
   "source": [
    "### Perform API Calls\n",
    "* Perform a weather check on each city using a series of successive API calls.\n",
    "* Include a print log of each city as it'sbeing processed (with the city number and city name).\n"
   ]
  },
  {
   "cell_type": "code",
   "execution_count": 3,
   "metadata": {
    "scrolled": true
   },
   "outputs": [
    {
     "name": "stdout",
     "output_type": "stream",
     "text": [
      "Beginning Data Retrieval \n",
      "-----------------------------\n",
      "Processing Record 2 of Set 1 | codrington\n",
      "Processing Record 3 of Set 1 | westerland\n",
      "Processing Record 4 of Set 1 | cape town\n",
      "Processing Record 5 of Set 1 | kulhudhuffushi\n",
      "Processing Record 6 of Set 1 | atuona\n",
      "City not found. Skipping...\n",
      "Processing Record 7 of Set 1 | rikitea\n",
      "Processing Record 8 of Set 1 | mar del plata\n",
      "Processing Record 9 of Set 1 | ushuaia\n",
      "City not found. Skipping...\n",
      "Processing Record 10 of Set 1 | hilo\n",
      "Processing Record 11 of Set 1 | vaini\n",
      "Processing Record 12 of Set 1 | kodiak\n",
      "Processing Record 13 of Set 1 | saint-philippe\n",
      "Processing Record 14 of Set 1 | severo-kurilsk\n",
      "Processing Record 15 of Set 1 | kapaa\n",
      "City not found. Skipping...\n",
      "Processing Record 16 of Set 1 | yellowknife\n",
      "Processing Record 17 of Set 1 | busselton\n",
      "Processing Record 18 of Set 1 | cidreira\n",
      "Processing Record 19 of Set 1 | slavutych\n",
      "Processing Record 20 of Set 1 | bluff\n",
      "Processing Record 21 of Set 1 | ribeira grande\n",
      "Processing Record 22 of Set 1 | port lincoln\n",
      "Processing Record 23 of Set 1 | hohoe\n",
      "Processing Record 24 of Set 1 | conde\n",
      "Processing Record 25 of Set 1 | thompson\n",
      "Processing Record 26 of Set 1 | rio pardo de minas\n",
      "Processing Record 27 of Set 1 | eyl\n",
      "Processing Record 28 of Set 1 | lincoln\n",
      "Processing Record 29 of Set 1 | tuktoyaktuk\n",
      "Processing Record 30 of Set 1 | talnakh\n",
      "Processing Record 31 of Set 1 | castro\n",
      "Processing Record 32 of Set 1 | solnechnyy\n",
      "Processing Record 33 of Set 1 | hervey bay\n",
      "Processing Record 34 of Set 1 | hithadhoo\n",
      "Processing Record 35 of Set 1 | lebu\n",
      "Processing Record 36 of Set 1 | lagoa\n",
      "Processing Record 37 of Set 1 | canchungo\n",
      "Processing Record 38 of Set 1 | geraldton\n",
      "Processing Record 39 of Set 1 | punta arenas\n",
      "Processing Record 40 of Set 1 | warrnambool\n",
      "Processing Record 41 of Set 1 | vanimo\n",
      "Processing Record 42 of Set 1 | omboue\n",
      "Processing Record 43 of Set 1 | cap malheureux\n",
      "Processing Record 44 of Set 1 | tezu\n",
      "City not found. Skipping...\n",
      "Processing Record 45 of Set 1 | trairi\n",
      "Processing Record 46 of Set 1 | san martin\n",
      "Processing Record 47 of Set 1 | butaritari\n",
      "Processing Record 48 of Set 1 | blankenberge\n",
      "Processing Record 49 of Set 1 | georgetown\n",
      "Processing Record 50 of Set 1 | provideniya\n",
      "City not found. Skipping...\n",
      "Processing Record 0 of Set 2 | pangnirtung\n",
      "Processing Record 1 of Set 2 | pacific grove\n",
      "Processing Record 2 of Set 2 | hlobyne\n",
      "Processing Record 3 of Set 2 | sitka\n",
      "Processing Record 4 of Set 2 | tabou\n",
      "Processing Record 5 of Set 2 | isla mujeres\n",
      "Processing Record 6 of Set 2 | paola\n",
      "Processing Record 7 of Set 2 | srednekolymsk\n",
      "City not found. Skipping...\n",
      "Processing Record 8 of Set 2 | harper\n",
      "Processing Record 9 of Set 2 | jamestown\n",
      "Processing Record 10 of Set 2 | paamiut\n",
      "Processing Record 11 of Set 2 | diamantino\n",
      "Processing Record 12 of Set 2 | viedma\n",
      "Processing Record 13 of Set 2 | airai\n",
      "Processing Record 14 of Set 2 | sonoita\n",
      "Processing Record 15 of Set 2 | iqaluit\n",
      "Processing Record 16 of Set 2 | norman wells\n",
      "Processing Record 17 of Set 2 | hobart\n",
      "Processing Record 18 of Set 2 | miranda\n",
      "City not found. Skipping...\n",
      "Processing Record 19 of Set 2 | nikolskoye\n",
      "Processing Record 20 of Set 2 | arraial do cabo\n",
      "Processing Record 21 of Set 2 | ilulissat\n",
      "Processing Record 22 of Set 2 | souillac\n",
      "Processing Record 23 of Set 2 | uhlove\n",
      "Processing Record 24 of Set 2 | upernavik\n",
      "Processing Record 25 of Set 2 | portland\n",
      "Processing Record 26 of Set 2 | yar-sale\n",
      "Processing Record 27 of Set 2 | beringovskiy\n",
      "Processing Record 28 of Set 2 | vila franca do campo\n",
      "City not found. Skipping...\n",
      "Processing Record 29 of Set 2 | namibe\n",
      "Processing Record 30 of Set 2 | tiznit\n",
      "Processing Record 31 of Set 2 | nuuk\n",
      "Processing Record 32 of Set 2 | adelaide\n",
      "Processing Record 33 of Set 2 | nhulunbuy\n",
      "Processing Record 34 of Set 2 | mizdah\n",
      "Processing Record 35 of Set 2 | naranjal\n",
      "Processing Record 36 of Set 2 | albany\n",
      "Processing Record 37 of Set 2 | grindavik\n",
      "Processing Record 38 of Set 2 | tual\n",
      "Processing Record 39 of Set 2 | port alfred\n",
      "Processing Record 40 of Set 2 | am timan\n",
      "City not found. Skipping...\n",
      "Processing Record 41 of Set 2 | mendoza\n",
      "Processing Record 42 of Set 2 | kavieng\n",
      "Processing Record 43 of Set 2 | new norfolk\n",
      "Processing Record 44 of Set 2 | tuatapere\n",
      "Processing Record 45 of Set 2 | alvaraes\n",
      "Processing Record 46 of Set 2 | altamira\n",
      "Processing Record 47 of Set 2 | mataura\n",
      "Processing Record 48 of Set 2 | bethel\n",
      "Processing Record 49 of Set 2 | inirida\n",
      "Processing Record 50 of Set 2 | comodoro rivadavia\n",
      "Processing Record 0 of Set 3 | kumsi\n",
      "City not found. Skipping...\n",
      "Processing Record 1 of Set 3 | wagar\n",
      "Processing Record 2 of Set 3 | mahebourg\n",
      "Processing Record 3 of Set 3 | banda aceh\n",
      "Processing Record 4 of Set 3 | asau\n",
      "Processing Record 5 of Set 3 | alofi\n",
      "City not found. Skipping...\n",
      "Processing Record 6 of Set 3 | kamenka\n",
      "Processing Record 7 of Set 3 | storsteinnes\n",
      "Processing Record 8 of Set 3 | awjilah\n",
      "City not found. Skipping...\n",
      "Processing Record 9 of Set 3 | nanortalik\n",
      "Processing Record 10 of Set 3 | tasiilaq\n",
      "Processing Record 11 of Set 3 | aguimes\n",
      "Processing Record 12 of Set 3 | helena\n",
      "City not found. Skipping...\n",
      "Processing Record 13 of Set 3 | saskylakh\n",
      "Processing Record 14 of Set 3 | semporna\n",
      "Processing Record 15 of Set 3 | east london\n",
      "Processing Record 16 of Set 3 | kaeo\n",
      "City not found. Skipping...\n",
      "Processing Record 17 of Set 3 | kargasok\n",
      "Processing Record 18 of Set 3 | caravelas\n",
      "Processing Record 19 of Set 3 | leningradskiy\n",
      "Processing Record 20 of Set 3 | saint george\n",
      "Processing Record 21 of Set 3 | beloha\n",
      "Processing Record 22 of Set 3 | chokurdakh\n",
      "Processing Record 23 of Set 3 | kolpashevo\n",
      "Processing Record 24 of Set 3 | puri\n",
      "Processing Record 25 of Set 3 | chicama\n",
      "Processing Record 26 of Set 3 | vitim\n",
      "Processing Record 27 of Set 3 | camacha\n",
      "City not found. Skipping...\n",
      "Processing Record 28 of Set 3 | gorontalo\n",
      "Processing Record 29 of Set 3 | chateaubelair\n",
      "Processing Record 30 of Set 3 | coos bay\n",
      "Processing Record 31 of Set 3 | barrow\n",
      "Processing Record 32 of Set 3 | qaanaaq\n",
      "Processing Record 33 of Set 3 | salalah\n",
      "Processing Record 34 of Set 3 | kaitangata\n",
      "Processing Record 35 of Set 3 | tessalit\n",
      "Processing Record 36 of Set 3 | victoria\n",
      "Processing Record 37 of Set 3 | longyearbyen\n",
      "Processing Record 38 of Set 3 | avarua\n",
      "Processing Record 39 of Set 3 | kamina\n",
      "Processing Record 40 of Set 3 | bulaevo\n",
      "Processing Record 41 of Set 3 | ahuimanu\n",
      "Processing Record 42 of Set 3 | tautira\n",
      "Processing Record 43 of Set 3 | puerto ayora\n",
      "Processing Record 44 of Set 3 | cerro azul\n",
      "City not found. Skipping...\n",
      "City not found. Skipping...\n",
      "City not found. Skipping...\n",
      "Processing Record 45 of Set 3 | nyurba\n",
      "Processing Record 46 of Set 3 | stokmarknes\n",
      "Processing Record 47 of Set 3 | marawi\n",
      "Processing Record 48 of Set 3 | bredasdorp\n",
      "Processing Record 49 of Set 3 | alice town\n",
      "Processing Record 50 of Set 3 | torbay\n",
      "Processing Record 0 of Set 4 | mount gambier\n",
      "Processing Record 1 of Set 4 | aklavik\n",
      "Processing Record 2 of Set 4 | the valley\n",
      "Processing Record 3 of Set 4 | salinopolis\n",
      "Processing Record 4 of Set 4 | ancud\n",
      "Processing Record 5 of Set 4 | faanui\n",
      "Processing Record 6 of Set 4 | chuy\n",
      "Processing Record 7 of Set 4 | bandarbeyla\n",
      "Processing Record 8 of Set 4 | lompoc\n",
      "Processing Record 9 of Set 4 | lima\n",
      "Processing Record 10 of Set 4 | hasaki\n",
      "Processing Record 11 of Set 4 | hofn\n",
      "Processing Record 12 of Set 4 | katsuura\n",
      "Processing Record 13 of Set 4 | kavaratti\n",
      "Processing Record 14 of Set 4 | black river\n",
      "Processing Record 15 of Set 4 | pavlohrad\n",
      "Processing Record 16 of Set 4 | petropavlovka\n",
      "Processing Record 17 of Set 4 | kuusamo\n",
      "City not found. Skipping...\n",
      "Processing Record 18 of Set 4 | esperance\n",
      "City not found. Skipping...\n",
      "Processing Record 19 of Set 4 | vao\n",
      "City not found. Skipping...\n",
      "Processing Record 20 of Set 4 | prado\n",
      "Processing Record 21 of Set 4 | hermanus\n",
      "Processing Record 22 of Set 4 | nelson bay\n",
      "Processing Record 23 of Set 4 | coihaique\n",
      "Processing Record 24 of Set 4 | colares\n",
      "Processing Record 25 of Set 4 | cherskiy\n",
      "Processing Record 26 of Set 4 | dikson\n",
      "City not found. Skipping...\n",
      "Processing Record 27 of Set 4 | rio gallegos\n",
      "Processing Record 28 of Set 4 | kenai\n",
      "Processing Record 29 of Set 4 | erzin\n",
      "Processing Record 30 of Set 4 | bud\n",
      "Processing Record 31 of Set 4 | san carlos de bariloche\n"
     ]
    },
    {
     "name": "stdout",
     "output_type": "stream",
     "text": [
      "Processing Record 32 of Set 4 | arman\n",
      "City not found. Skipping...\n",
      "Processing Record 33 of Set 4 | lilongwe\n",
      "Processing Record 34 of Set 4 | vardo\n",
      "City not found. Skipping...\n",
      "Processing Record 35 of Set 4 | turukhansk\n",
      "Processing Record 36 of Set 4 | saldanha\n",
      "Processing Record 37 of Set 4 | bambous virieux\n",
      "Processing Record 38 of Set 4 | husavik\n",
      "Processing Record 39 of Set 4 | solenzo\n",
      "Processing Record 40 of Set 4 | bilibino\n",
      "Processing Record 41 of Set 4 | aketi\n",
      "Processing Record 42 of Set 4 | dingle\n",
      "Processing Record 43 of Set 4 | marbella\n",
      "Processing Record 44 of Set 4 | nantucket\n",
      "Processing Record 45 of Set 4 | ust-ilimsk\n",
      "Processing Record 46 of Set 4 | lata\n",
      "Processing Record 47 of Set 4 | saint anthony\n",
      "Processing Record 48 of Set 4 | moroni\n",
      "Processing Record 49 of Set 4 | kwaluseni\n",
      "Processing Record 50 of Set 4 | guilin\n",
      "Processing Record 0 of Set 5 | serramanna\n",
      "Processing Record 1 of Set 5 | nome\n",
      "Processing Record 2 of Set 5 | pisco\n",
      "Processing Record 3 of Set 5 | wamba\n",
      "Processing Record 4 of Set 5 | ayan\n",
      "City not found. Skipping...\n",
      "Processing Record 5 of Set 5 | meulaboh\n",
      "Processing Record 6 of Set 5 | guanica\n",
      "Processing Record 7 of Set 5 | guarapari\n",
      "Processing Record 8 of Set 5 | bandarban\n",
      "Processing Record 9 of Set 5 | charters towers\n",
      "Processing Record 10 of Set 5 | sibolga\n",
      "Processing Record 11 of Set 5 | cordoba\n",
      "Processing Record 12 of Set 5 | paka\n",
      "Processing Record 13 of Set 5 | sao joao da barra\n",
      "Processing Record 14 of Set 5 | lekoni\n",
      "Processing Record 15 of Set 5 | matara\n",
      "Processing Record 16 of Set 5 | garissa\n",
      "Processing Record 17 of Set 5 | itarema\n",
      "Processing Record 18 of Set 5 | fort nelson\n",
      "Processing Record 19 of Set 5 | aasiaat\n",
      "Processing Record 20 of Set 5 | krasnoselkup\n",
      "Processing Record 21 of Set 5 | klaksvik\n",
      "Processing Record 22 of Set 5 | yvetot\n",
      "Processing Record 23 of Set 5 | carnarvon\n",
      "Processing Record 24 of Set 5 | tortoli\n",
      "Processing Record 25 of Set 5 | belyy yar\n",
      "Processing Record 26 of Set 5 | linden\n",
      "Processing Record 27 of Set 5 | storforshei\n",
      "Processing Record 28 of Set 5 | vila velha\n",
      "Processing Record 29 of Set 5 | zhigansk\n",
      "Processing Record 30 of Set 5 | sao filipe\n",
      "City not found. Skipping...\n",
      "Processing Record 31 of Set 5 | verkhnyaya inta\n",
      "Processing Record 32 of Set 5 | narsaq\n",
      "Processing Record 33 of Set 5 | necochea\n",
      "Processing Record 34 of Set 5 | pozo colorado\n",
      "Processing Record 35 of Set 5 | kungurtug\n",
      "Processing Record 36 of Set 5 | chunoyar\n",
      "Processing Record 37 of Set 5 | wanaka\n",
      "Processing Record 38 of Set 5 | cabo san lucas\n",
      "Processing Record 39 of Set 5 | deputatskiy\n",
      "City not found. Skipping...\n",
      "Processing Record 40 of Set 5 | abbeville\n",
      "Processing Record 41 of Set 5 | port elizabeth\n",
      "Processing Record 42 of Set 5 | samarai\n",
      "Processing Record 43 of Set 5 | atambua\n",
      "Processing Record 44 of Set 5 | verkhoyansk\n",
      "Processing Record 45 of Set 5 | alice springs\n",
      "Processing Record 46 of Set 5 | sabha\n",
      "Processing Record 47 of Set 5 | muros\n",
      "Processing Record 48 of Set 5 | los llanos de aridane\n",
      "Processing Record 49 of Set 5 | villa maria\n",
      "Processing Record 50 of Set 5 | meget\n",
      "Processing Record 0 of Set 6 | awbari\n",
      "City not found. Skipping...\n",
      "Processing Record 1 of Set 6 | biloela\n",
      "Processing Record 2 of Set 6 | ankang\n",
      "Processing Record 3 of Set 6 | clarence town\n",
      "Processing Record 4 of Set 6 | sorland\n",
      "Processing Record 5 of Set 6 | ochtrup\n",
      "Processing Record 6 of Set 6 | wilkie\n",
      "Processing Record 7 of Set 6 | cockburn town\n",
      "Processing Record 8 of Set 6 | bontang\n",
      "Processing Record 9 of Set 6 | rawson\n",
      "City not found. Skipping...\n",
      "Processing Record 10 of Set 6 | fredericksburg\n",
      "Processing Record 11 of Set 6 | nalut\n",
      "Processing Record 12 of Set 6 | abnub\n",
      "Processing Record 13 of Set 6 | mach\n",
      "City not found. Skipping...\n",
      "Processing Record 14 of Set 6 | mbandaka\n",
      "Processing Record 15 of Set 6 | acapulco\n",
      "Processing Record 16 of Set 6 | tupik\n",
      "Processing Record 17 of Set 6 | keti bandar\n",
      "Processing Record 18 of Set 6 | araouane\n",
      "City not found. Skipping...\n",
      "Processing Record 19 of Set 6 | enterprise\n",
      "Processing Record 20 of Set 6 | balykshi\n",
      "Processing Record 21 of Set 6 | severo-yeniseyskiy\n",
      "Processing Record 22 of Set 6 | karratha\n",
      "Processing Record 23 of Set 6 | thinadhoo\n",
      "Processing Record 24 of Set 6 | inuvik\n",
      "Processing Record 25 of Set 6 | ekuvukeni\n",
      "Processing Record 26 of Set 6 | russkiy aktash\n",
      "Processing Record 27 of Set 6 | mao\n",
      "Processing Record 28 of Set 6 | maniitsoq\n",
      "Processing Record 29 of Set 6 | lazaro cardenas\n",
      "Processing Record 30 of Set 6 | ostersund\n",
      "Processing Record 31 of Set 6 | poum\n",
      "Processing Record 32 of Set 6 | fare\n",
      "Processing Record 33 of Set 6 | puerto escondido\n",
      "City not found. Skipping...\n",
      "Processing Record 34 of Set 6 | tondano\n",
      "Processing Record 35 of Set 6 | anadyr\n",
      "Processing Record 36 of Set 6 | denpasar\n",
      "Processing Record 37 of Set 6 | kutum\n",
      "Processing Record 38 of Set 6 | simoes\n",
      "Processing Record 39 of Set 6 | lakes entrance\n",
      "City not found. Skipping...\n",
      "Processing Record 40 of Set 6 | brae\n",
      "Processing Record 41 of Set 6 | wattegama\n",
      "Processing Record 42 of Set 6 | devils lake\n",
      "Processing Record 43 of Set 6 | verin\n",
      "Processing Record 44 of Set 6 | dulce nombre de culmi\n",
      "Processing Record 45 of Set 6 | kahului\n",
      "Processing Record 46 of Set 6 | hopkinsville\n",
      "Processing Record 47 of Set 6 | ardakan\n",
      "Processing Record 48 of Set 6 | voyvozh\n",
      "Processing Record 49 of Set 6 | yerofey pavlovich\n",
      "Processing Record 50 of Set 6 | ostrovnoy\n",
      "Processing Record 0 of Set 7 | ampanihy\n",
      "Processing Record 1 of Set 7 | north bend\n",
      "Processing Record 2 of Set 7 | paea\n",
      "City not found. Skipping...\n",
      "Processing Record 3 of Set 7 | mehran\n",
      "Processing Record 4 of Set 7 | dawlatabad\n",
      "Processing Record 5 of Set 7 | pangkalanbuun\n",
      "Processing Record 6 of Set 7 | chenghai\n",
      "Processing Record 7 of Set 7 | green river\n",
      "Processing Record 8 of Set 7 | hachinohe\n",
      "Processing Record 9 of Set 7 | sao raimundo das mangabeiras\n",
      "Processing Record 10 of Set 7 | buritizeiro\n",
      "Processing Record 11 of Set 7 | kaoma\n",
      "Processing Record 12 of Set 7 | ponta do sol\n",
      "Processing Record 13 of Set 7 | norsup\n",
      "Processing Record 14 of Set 7 | hue\n",
      "Processing Record 15 of Set 7 | port hedland\n",
      "Processing Record 16 of Set 7 | gat\n",
      "Processing Record 17 of Set 7 | marzuq\n",
      "Processing Record 18 of Set 7 | khatanga\n",
      "City not found. Skipping...\n",
      "Processing Record 19 of Set 7 | parvatsar\n",
      "Processing Record 20 of Set 7 | cap-aux-meules\n",
      "Processing Record 21 of Set 7 | tiksi\n",
      "Processing Record 22 of Set 7 | porbandar\n",
      "Processing Record 23 of Set 7 | finnsnes\n",
      "Processing Record 24 of Set 7 | portsmouth\n",
      "Processing Record 25 of Set 7 | clyde river\n",
      "Processing Record 26 of Set 7 | russell\n",
      "Processing Record 27 of Set 7 | barentu\n",
      "Processing Record 28 of Set 7 | kruisfontein\n",
      "Processing Record 29 of Set 7 | mahibadhoo\n",
      "Processing Record 30 of Set 7 | auki\n",
      "Processing Record 31 of Set 7 | mocuba\n",
      "Processing Record 32 of Set 7 | westport\n",
      "Processing Record 33 of Set 7 | puerto el triunfo\n",
      "Processing Record 34 of Set 7 | nova olimpia\n",
      "Processing Record 35 of Set 7 | falun\n",
      "Processing Record 36 of Set 7 | anloga\n",
      "Processing Record 37 of Set 7 | djibo\n",
      "Processing Record 38 of Set 7 | thunder bay\n",
      "Processing Record 39 of Set 7 | mahishadal\n",
      "Processing Record 40 of Set 7 | novyy urengoy\n",
      "Processing Record 41 of Set 7 | bosaso\n",
      "Processing Record 42 of Set 7 | avera\n",
      "Processing Record 43 of Set 7 | puerto del rosario\n",
      "Processing Record 44 of Set 7 | santa maria\n",
      "Processing Record 45 of Set 7 | hayrabolu\n",
      "Processing Record 46 of Set 7 | kindu\n",
      "Processing Record 47 of Set 7 | colac\n",
      "City not found. Skipping...\n",
      "Processing Record 48 of Set 7 | oranjemund\n",
      "Processing Record 49 of Set 7 | arlit\n",
      "Processing Record 50 of Set 7 | takoradi\n",
      "Processing Record 0 of Set 8 | pevek\n",
      "Processing Record 1 of Set 8 | fairbanks\n",
      "Processing Record 2 of Set 8 | bengkulu\n",
      "Processing Record 3 of Set 8 | zaporizhzhya\n",
      "Processing Record 4 of Set 8 | hamilton\n",
      "Processing Record 5 of Set 8 | santa cruz de tenerife\n",
      "Processing Record 6 of Set 8 | dhariwal\n",
      "Processing Record 7 of Set 8 | sumbe\n",
      "Processing Record 8 of Set 8 | san cristobal\n",
      "Processing Record 9 of Set 8 | taga\n",
      "Processing Record 10 of Set 8 | lukhovitsy\n",
      "Processing Record 11 of Set 8 | ullapool\n",
      "Processing Record 12 of Set 8 | jiayuguan\n",
      "Processing Record 13 of Set 8 | broken hill\n",
      "Processing Record 14 of Set 8 | evensk\n",
      "City not found. Skipping...\n",
      "Processing Record 15 of Set 8 | shieli\n",
      "Processing Record 16 of Set 8 | north myrtle beach\n",
      "Processing Record 17 of Set 8 | kilindoni\n"
     ]
    },
    {
     "name": "stdout",
     "output_type": "stream",
     "text": [
      "Processing Record 18 of Set 8 | coihueco\n",
      "Processing Record 19 of Set 8 | bathsheba\n",
      "City not found. Skipping...\n",
      "Processing Record 20 of Set 8 | port hardy\n",
      "Processing Record 21 of Set 8 | baker city\n",
      "Processing Record 22 of Set 8 | tura\n",
      "City not found. Skipping...\n",
      "Processing Record 23 of Set 8 | kysyl-syr\n",
      "Processing Record 24 of Set 8 | pizhanka\n",
      "Processing Record 25 of Set 8 | touros\n",
      "Processing Record 26 of Set 8 | estelle\n",
      "Processing Record 27 of Set 8 | ahipara\n",
      "Processing Record 28 of Set 8 | payson\n",
      "Processing Record 29 of Set 8 | dalianwan\n",
      "Processing Record 30 of Set 8 | soanierana ivongo\n",
      "Processing Record 31 of Set 8 | quatre cocos\n",
      "Processing Record 32 of Set 8 | jalingo\n",
      "Processing Record 33 of Set 8 | ninohe\n",
      "Processing Record 34 of Set 8 | amalapuram\n",
      "Processing Record 35 of Set 8 | sinnamary\n",
      "Processing Record 36 of Set 8 | mayumba\n",
      "Processing Record 37 of Set 8 | adolfo lopez mateos\n",
      "Processing Record 38 of Set 8 | mandan\n",
      "Processing Record 39 of Set 8 | lhokseumawe\n",
      "Processing Record 40 of Set 8 | vargem grande\n",
      "Processing Record 41 of Set 8 | korla\n",
      "City not found. Skipping...\n",
      "Processing Record 42 of Set 8 | ereymentau\n",
      "City not found. Skipping...\n",
      "Processing Record 43 of Set 8 | teahupoo\n",
      "Processing Record 44 of Set 8 | muana\n",
      "Processing Record 45 of Set 8 | novyy yegorlyk\n",
      "Processing Record 46 of Set 8 | goderich\n",
      "Processing Record 47 of Set 8 | tahoua\n",
      "Processing Record 48 of Set 8 | kousseri\n",
      "Processing Record 49 of Set 8 | taoudenni\n",
      "Processing Record 50 of Set 8 | nexo\n",
      "Processing Record 0 of Set 9 | barcarena\n",
      "Processing Record 1 of Set 9 | noormarkku\n",
      "Processing Record 2 of Set 9 | dunedin\n",
      "Processing Record 3 of Set 9 | peterhead\n",
      "Processing Record 4 of Set 9 | hastings\n",
      "Processing Record 5 of Set 9 | qaqortoq\n",
      "Processing Record 6 of Set 9 | narimanov\n",
      "Processing Record 7 of Set 9 | boshnyakovo\n",
      "Processing Record 8 of Set 9 | kupang\n",
      "Processing Record 9 of Set 9 | pulandian\n",
      "Processing Record 10 of Set 9 | damghan\n",
      "Processing Record 11 of Set 9 | san patricio\n",
      "Processing Record 12 of Set 9 | aksarka\n",
      "Processing Record 13 of Set 9 | grand gaube\n",
      "Processing Record 14 of Set 9 | otane\n",
      "Processing Record 15 of Set 9 | jalapa\n",
      "Processing Record 16 of Set 9 | tynset\n",
      "Processing Record 17 of Set 9 | umm kaddadah\n",
      "Processing Record 18 of Set 9 | honiara\n",
      "Processing Record 19 of Set 9 | xai-xai\n",
      "Processing Record 20 of Set 9 | antofagasta\n",
      "Processing Record 21 of Set 9 | beni suef\n",
      "City not found. Skipping...\n",
      "City not found. Skipping...\n",
      "Processing Record 22 of Set 9 | lagunas\n",
      "Processing Record 23 of Set 9 | hambantota\n",
      "Processing Record 24 of Set 9 | oistins\n",
      "Processing Record 25 of Set 9 | lasa\n",
      "Processing Record 26 of Set 9 | yulara\n",
      "Processing Record 27 of Set 9 | maceio\n",
      "Processing Record 28 of Set 9 | raga\n",
      "Processing Record 29 of Set 9 | brooks\n",
      "Processing Record 30 of Set 9 | krasnyy bogatyr\n",
      "Processing Record 31 of Set 9 | sioux lookout\n",
      "Processing Record 32 of Set 9 | hualmay\n",
      "Processing Record 33 of Set 9 | dong xoai\n",
      "Processing Record 34 of Set 9 | buchanan\n",
      "Processing Record 35 of Set 9 | sao marcos\n",
      "Processing Record 36 of Set 9 | ondjiva\n",
      "Processing Record 37 of Set 9 | mushie\n",
      "Processing Record 38 of Set 9 | ngunguru\n",
      "Processing Record 39 of Set 9 | miandrivazo\n",
      "Processing Record 40 of Set 9 | uarini\n",
      "Processing Record 41 of Set 9 | richards bay\n",
      "Processing Record 42 of Set 9 | mitla\n",
      "Processing Record 43 of Set 9 | martapura\n",
      "Processing Record 44 of Set 9 | egvekinot\n",
      "City not found. Skipping...\n",
      "Processing Record 45 of Set 9 | laguna\n",
      "Processing Record 46 of Set 9 | buriti bravo\n",
      "Processing Record 47 of Set 9 | lexington\n",
      "Processing Record 48 of Set 9 | kirakira\n",
      "Processing Record 49 of Set 9 | tamandare\n",
      "Processing Record 50 of Set 9 | yacuiba\n",
      "Processing Record 0 of Set 10 | mitu\n",
      "Processing Record 1 of Set 10 | saint-augustin\n",
      "Processing Record 2 of Set 10 | spasskoye\n",
      "Processing Record 3 of Set 10 | nadym\n",
      "Processing Record 4 of Set 10 | lavrentiya\n",
      "Processing Record 5 of Set 10 | ternate\n",
      "Processing Record 6 of Set 10 | mitsamiouli\n",
      "Processing Record 7 of Set 10 | zhuhai\n",
      "Processing Record 8 of Set 10 | sherlovaya gora\n",
      "Processing Record 9 of Set 10 | krasnoye\n",
      "Processing Record 10 of Set 10 | marsh harbour\n",
      "Processing Record 11 of Set 10 | treinta y tres\n",
      "Processing Record 12 of Set 10 | volodarka\n",
      "Processing Record 13 of Set 10 | luwuk\n",
      "Processing Record 14 of Set 10 | tooele\n",
      "Processing Record 15 of Set 10 | manggar\n",
      "Processing Record 16 of Set 10 | ahero\n",
      "Processing Record 17 of Set 10 | olafsvik\n",
      "Processing Record 18 of Set 10 | kiama\n",
      "Processing Record 19 of Set 10 | morehead\n",
      "Processing Record 20 of Set 10 | salta\n",
      "Processing Record 21 of Set 10 | teno\n",
      "Processing Record 22 of Set 10 | kidal\n",
      "Processing Record 23 of Set 10 | malanje\n",
      "Processing Record 24 of Set 10 | kampot\n",
      "Processing Record 25 of Set 10 | puerto madryn\n",
      "Processing Record 26 of Set 10 | eureka\n",
      "Processing Record 27 of Set 10 | hami\n",
      "Processing Record 28 of Set 10 | northam\n",
      "Processing Record 29 of Set 10 | havoysund\n",
      "Processing Record 30 of Set 10 | tecoanapa\n",
      "Processing Record 31 of Set 10 | vallenar\n",
      "City not found. Skipping...\n",
      "Processing Record 32 of Set 10 | pringsewu\n",
      "Processing Record 33 of Set 10 | port-gentil\n",
      "Processing Record 34 of Set 10 | vestmannaeyjar\n",
      "Processing Record 35 of Set 10 | labatlan\n",
      "Processing Record 36 of Set 10 | spas-klepiki\n",
      "Processing Record 37 of Set 10 | berasia\n",
      "Processing Record 38 of Set 10 | tuy hoa\n",
      "Processing Record 39 of Set 10 | lukulu\n",
      "Processing Record 40 of Set 10 | prescott valley\n",
      "Processing Record 41 of Set 10 | houston\n",
      "Processing Record 42 of Set 10 | svecha\n",
      "Processing Record 43 of Set 10 | daru\n",
      "Processing Record 44 of Set 10 | huilong\n",
      "Processing Record 45 of Set 10 | bonavista\n",
      "Processing Record 46 of Set 10 | goure\n",
      "Processing Record 47 of Set 10 | qasigiannguit\n",
      "Processing Record 48 of Set 10 | tarakan\n",
      "Processing Record 49 of Set 10 | gouyave\n",
      "Processing Record 50 of Set 10 | capao bonito\n",
      "Processing Record 0 of Set 11 | itapuranga\n",
      "Processing Record 1 of Set 11 | billund\n",
      "Processing Record 2 of Set 11 | muzaffarpur\n",
      "Processing Record 3 of Set 11 | lixourion\n",
      "City not found. Skipping...\n",
      "Processing Record 4 of Set 11 | fernie\n",
      "Processing Record 5 of Set 11 | ucluelet\n",
      "Processing Record 6 of Set 11 | corpus christi\n",
      "Processing Record 7 of Set 11 | port hawkesbury\n",
      "Processing Record 8 of Set 11 | birnin kebbi\n",
      "Processing Record 9 of Set 11 | chakrata\n",
      "City not found. Skipping...\n",
      "Processing Record 10 of Set 11 | naryan-mar\n",
      "Processing Record 11 of Set 11 | hurricane\n",
      "Processing Record 12 of Set 11 | san quintin\n",
      "City not found. Skipping...\n",
      "Processing Record 13 of Set 11 | eslamshahr\n",
      "Processing Record 14 of Set 11 | novochernorechenskiy\n",
      "Processing Record 15 of Set 11 | petropavlovsk-kamchatskiy\n",
      "Processing Record 16 of Set 11 | tazovskiy\n",
      "Processing Record 17 of Set 11 | daitari\n",
      "Processing Record 18 of Set 11 | aksu\n",
      "Processing Record 19 of Set 11 | calbuco\n",
      "Processing Record 20 of Set 11 | alekseyevka\n",
      "City not found. Skipping...\n",
      "Processing Record 21 of Set 11 | sao joao do piaui\n",
      "Processing Record 22 of Set 11 | olinda\n",
      "Processing Record 23 of Set 11 | ketchikan\n",
      "Processing Record 24 of Set 11 | pitimbu\n",
      "Processing Record 25 of Set 11 | kuznetsk\n",
      "Processing Record 26 of Set 11 | chingirlau\n",
      "Processing Record 27 of Set 11 | abalak\n",
      "Processing Record 28 of Set 11 | college\n",
      "Processing Record 29 of Set 11 | smyrna\n",
      "Processing Record 30 of Set 11 | chimoio\n",
      "Processing Record 31 of Set 11 | zyryanskoye\n",
      "Processing Record 32 of Set 11 | dobrinka\n",
      "Processing Record 33 of Set 11 | newark\n",
      "Processing Record 34 of Set 11 | pangai\n",
      "Processing Record 35 of Set 11 | alugan\n",
      "Processing Record 36 of Set 11 | honningsvag\n",
      "City not found. Skipping...\n",
      "Processing Record 37 of Set 11 | taonan\n",
      "Processing Record 38 of Set 11 | saint-marc-des-carrieres\n",
      "Processing Record 39 of Set 11 | ponta delgada\n",
      "Processing Record 40 of Set 11 | todos santos\n",
      "Processing Record 41 of Set 11 | saint-denis\n",
      "Processing Record 42 of Set 11 | buenavista\n",
      "Processing Record 43 of Set 11 | tombouctou\n",
      "Processing Record 44 of Set 11 | skibbereen\n",
      "Processing Record 45 of Set 11 | kumertau\n",
      "Processing Record 46 of Set 11 | hobyo\n",
      "Processing Record 47 of Set 11 | pathein\n",
      "Processing Record 48 of Set 11 | xining\n",
      "Processing Record 49 of Set 11 | bedele\n",
      "Processing Record 50 of Set 11 | pasco\n",
      "Processing Record 0 of Set 12 | ife\n",
      "City not found. Skipping...\n",
      "Processing Record 1 of Set 12 | constitucion\n"
     ]
    },
    {
     "name": "stdout",
     "output_type": "stream",
     "text": [
      "Processing Record 2 of Set 12 | sambava\n",
      "Processing Record 3 of Set 12 | trojes\n",
      "Processing Record 4 of Set 12 | obera\n",
      "City not found. Skipping...\n",
      "-----------------------------\n",
      "Data Retrieval Complete\n",
      "-----------------------------\n"
     ]
    }
   ],
   "source": [
    "city_names = []\n",
    "lat = []\n",
    "long = []\n",
    "maxtemp = []\n",
    "humidity = []\n",
    "cloudiness = []\n",
    "wind_speed = []\n",
    "country = []\n",
    "date = []\n",
    "city_counter = 1\n",
    "set_counter = 1\n",
    "\n",
    "print(\"Beginning Data Retrieval \")\n",
    "print(\"-----------------------------\")\n",
    "\n",
    "base_url = \"http://api.openweathermap.org/data/2.5/weather?\"\n",
    "units = \"imperial\"\n",
    "query_url = f\"{base_url}appid={weather_api_key}&units={units}&q=\"\n",
    "\n",
    "for index, city in enumerate(cities, start = 1):\n",
    "    try:\n",
    "        response = requests.get(query_url + city).json()\n",
    "        city_names.append(response[\"name\"])\n",
    "        cloudiness.append(response[\"clouds\"][\"all\"])\n",
    "        country.append(response[\"sys\"][\"country\"])\n",
    "        date = datetime.datetime.fromtimestamp(int(response['dt'])).strftime('%m-%d-%Y')\n",
    "        humidity.append(response[\"main\"][\"humidity\"])\n",
    "        lat.append(response[\"coord\"][\"lat\"])\n",
    "        long.append(response[\"coord\"][\"lon\"])\n",
    "        maxtemp.append(response[\"main\"][\"temp_max\"])\n",
    "        wind_speed.append(response[\"wind\"][\"speed\"])\n",
    "        \n",
    "        if city_counter > 49:\n",
    "            city_counter = 0\n",
    "            set_counter = set_counter + 1\n",
    "    \n",
    "        else:\n",
    "            city_counter = city_counter + 1\n",
    "            \n",
    "        print(f\"Processing Record {city_counter} of Set {set_counter} | {city}\") \n",
    "  \n",
    "    except(KeyError, IndexError):\n",
    "        print(\"City not found. Skipping...\")\n",
    "\n",
    "print(\"-----------------------------\")\n",
    "print(\"Data Retrieval Complete\")\n",
    "print(\"-----------------------------\")"
   ]
  },
  {
   "cell_type": "markdown",
   "metadata": {},
   "source": [
    "### Convert Raw Data to DataFrame\n",
    "* Export the city data into a .csv.\n",
    "* Display the DataFrame"
   ]
  },
  {
   "cell_type": "code",
   "execution_count": 4,
   "metadata": {},
   "outputs": [
    {
     "data": {
      "text/html": [
       "<div>\n",
       "<style scoped>\n",
       "    .dataframe tbody tr th:only-of-type {\n",
       "        vertical-align: middle;\n",
       "    }\n",
       "\n",
       "    .dataframe tbody tr th {\n",
       "        vertical-align: top;\n",
       "    }\n",
       "\n",
       "    .dataframe thead th {\n",
       "        text-align: right;\n",
       "    }\n",
       "</style>\n",
       "<table border=\"1\" class=\"dataframe\">\n",
       "  <thead>\n",
       "    <tr style=\"text-align: right;\">\n",
       "      <th></th>\n",
       "      <th>City</th>\n",
       "      <th>Lat</th>\n",
       "      <th>Lng</th>\n",
       "      <th>Max Temp</th>\n",
       "      <th>Humidity</th>\n",
       "      <th>Cloudiness</th>\n",
       "      <th>Wind Speed</th>\n",
       "      <th>Country</th>\n",
       "      <th>Date</th>\n",
       "    </tr>\n",
       "  </thead>\n",
       "  <tbody>\n",
       "    <tr>\n",
       "      <th>0</th>\n",
       "      <td>Codrington</td>\n",
       "      <td>-38.2667</td>\n",
       "      <td>141.9667</td>\n",
       "      <td>50.68</td>\n",
       "      <td>86</td>\n",
       "      <td>50</td>\n",
       "      <td>15.28</td>\n",
       "      <td>AU</td>\n",
       "      <td>10-19-2021</td>\n",
       "    </tr>\n",
       "    <tr>\n",
       "      <th>1</th>\n",
       "      <td>Westerland</td>\n",
       "      <td>54.9079</td>\n",
       "      <td>8.3033</td>\n",
       "      <td>59.18</td>\n",
       "      <td>100</td>\n",
       "      <td>90</td>\n",
       "      <td>21.85</td>\n",
       "      <td>DE</td>\n",
       "      <td>10-19-2021</td>\n",
       "    </tr>\n",
       "    <tr>\n",
       "      <th>2</th>\n",
       "      <td>Cape Town</td>\n",
       "      <td>-33.9258</td>\n",
       "      <td>18.4232</td>\n",
       "      <td>66.34</td>\n",
       "      <td>61</td>\n",
       "      <td>0</td>\n",
       "      <td>1.99</td>\n",
       "      <td>ZA</td>\n",
       "      <td>10-19-2021</td>\n",
       "    </tr>\n",
       "    <tr>\n",
       "      <th>3</th>\n",
       "      <td>Kulhudhuffushi</td>\n",
       "      <td>6.6221</td>\n",
       "      <td>73.0700</td>\n",
       "      <td>81.88</td>\n",
       "      <td>74</td>\n",
       "      <td>44</td>\n",
       "      <td>11.25</td>\n",
       "      <td>MV</td>\n",
       "      <td>10-19-2021</td>\n",
       "    </tr>\n",
       "    <tr>\n",
       "      <th>4</th>\n",
       "      <td>Atuona</td>\n",
       "      <td>-9.8000</td>\n",
       "      <td>-139.0333</td>\n",
       "      <td>78.39</td>\n",
       "      <td>75</td>\n",
       "      <td>26</td>\n",
       "      <td>21.00</td>\n",
       "      <td>PF</td>\n",
       "      <td>10-19-2021</td>\n",
       "    </tr>\n",
       "    <tr>\n",
       "      <th>...</th>\n",
       "      <td>...</td>\n",
       "      <td>...</td>\n",
       "      <td>...</td>\n",
       "      <td>...</td>\n",
       "      <td>...</td>\n",
       "      <td>...</td>\n",
       "      <td>...</td>\n",
       "      <td>...</td>\n",
       "      <td>...</td>\n",
       "    </tr>\n",
       "    <tr>\n",
       "      <th>559</th>\n",
       "      <td>Ile-Ife</td>\n",
       "      <td>7.4667</td>\n",
       "      <td>4.5667</td>\n",
       "      <td>73.63</td>\n",
       "      <td>96</td>\n",
       "      <td>72</td>\n",
       "      <td>2.98</td>\n",
       "      <td>NG</td>\n",
       "      <td>10-19-2021</td>\n",
       "    </tr>\n",
       "    <tr>\n",
       "      <th>560</th>\n",
       "      <td>Constitución</td>\n",
       "      <td>-35.3333</td>\n",
       "      <td>-72.4167</td>\n",
       "      <td>66.02</td>\n",
       "      <td>58</td>\n",
       "      <td>4</td>\n",
       "      <td>5.99</td>\n",
       "      <td>CL</td>\n",
       "      <td>10-19-2021</td>\n",
       "    </tr>\n",
       "    <tr>\n",
       "      <th>561</th>\n",
       "      <td>Sambava</td>\n",
       "      <td>-14.2667</td>\n",
       "      <td>50.1667</td>\n",
       "      <td>72.81</td>\n",
       "      <td>83</td>\n",
       "      <td>63</td>\n",
       "      <td>7.78</td>\n",
       "      <td>MG</td>\n",
       "      <td>10-19-2021</td>\n",
       "    </tr>\n",
       "    <tr>\n",
       "      <th>562</th>\n",
       "      <td>Trojes</td>\n",
       "      <td>41.7560</td>\n",
       "      <td>19.9620</td>\n",
       "      <td>52.29</td>\n",
       "      <td>69</td>\n",
       "      <td>18</td>\n",
       "      <td>4.79</td>\n",
       "      <td>AL</td>\n",
       "      <td>10-19-2021</td>\n",
       "    </tr>\n",
       "    <tr>\n",
       "      <th>563</th>\n",
       "      <td>Oberá</td>\n",
       "      <td>-27.4871</td>\n",
       "      <td>-55.1199</td>\n",
       "      <td>76.86</td>\n",
       "      <td>38</td>\n",
       "      <td>1</td>\n",
       "      <td>6.73</td>\n",
       "      <td>AR</td>\n",
       "      <td>10-19-2021</td>\n",
       "    </tr>\n",
       "  </tbody>\n",
       "</table>\n",
       "<p>564 rows × 9 columns</p>\n",
       "</div>"
      ],
      "text/plain": [
       "               City      Lat       Lng  Max Temp  Humidity  Cloudiness  \\\n",
       "0        Codrington -38.2667  141.9667     50.68        86          50   \n",
       "1        Westerland  54.9079    8.3033     59.18       100          90   \n",
       "2         Cape Town -33.9258   18.4232     66.34        61           0   \n",
       "3    Kulhudhuffushi   6.6221   73.0700     81.88        74          44   \n",
       "4            Atuona  -9.8000 -139.0333     78.39        75          26   \n",
       "..              ...      ...       ...       ...       ...         ...   \n",
       "559         Ile-Ife   7.4667    4.5667     73.63        96          72   \n",
       "560    Constitución -35.3333  -72.4167     66.02        58           4   \n",
       "561         Sambava -14.2667   50.1667     72.81        83          63   \n",
       "562          Trojes  41.7560   19.9620     52.29        69          18   \n",
       "563           Oberá -27.4871  -55.1199     76.86        38           1   \n",
       "\n",
       "     Wind Speed Country        Date  \n",
       "0         15.28      AU  10-19-2021  \n",
       "1         21.85      DE  10-19-2021  \n",
       "2          1.99      ZA  10-19-2021  \n",
       "3         11.25      MV  10-19-2021  \n",
       "4         21.00      PF  10-19-2021  \n",
       "..          ...     ...         ...  \n",
       "559        2.98      NG  10-19-2021  \n",
       "560        5.99      CL  10-19-2021  \n",
       "561        7.78      MG  10-19-2021  \n",
       "562        4.79      AL  10-19-2021  \n",
       "563        6.73      AR  10-19-2021  \n",
       "\n",
       "[564 rows x 9 columns]"
      ]
     },
     "execution_count": 4,
     "metadata": {},
     "output_type": "execute_result"
    }
   ],
   "source": [
    "#dataframe\n",
    "city_data_df = pd.DataFrame({\n",
    "    \"City\": city_names,\n",
    "    \"Lat\": lat,\n",
    "    \"Lng\": long,\n",
    "    \"Max Temp\": maxtemp,\n",
    "    \"Humidity\": humidity,\n",
    "    \"Cloudiness\": cloudiness,\n",
    "    \"Wind Speed\": wind_speed,\n",
    "    \"Country\": country,\n",
    "    \"Date\": date\n",
    "})\n",
    "\n",
    "city_data_df"
   ]
  },
  {
   "cell_type": "code",
   "execution_count": 5,
   "metadata": {},
   "outputs": [
    {
     "data": {
      "text/plain": [
       "City          564\n",
       "Lat           564\n",
       "Lng           564\n",
       "Max Temp      564\n",
       "Humidity      564\n",
       "Cloudiness    564\n",
       "Wind Speed    564\n",
       "Country       564\n",
       "Date          564\n",
       "dtype: int64"
      ]
     },
     "execution_count": 5,
     "metadata": {},
     "output_type": "execute_result"
    }
   ],
   "source": [
    "city_data_df.count()"
   ]
  },
  {
   "cell_type": "code",
   "execution_count": 6,
   "metadata": {},
   "outputs": [
    {
     "data": {
      "text/html": [
       "<div>\n",
       "<style scoped>\n",
       "    .dataframe tbody tr th:only-of-type {\n",
       "        vertical-align: middle;\n",
       "    }\n",
       "\n",
       "    .dataframe tbody tr th {\n",
       "        vertical-align: top;\n",
       "    }\n",
       "\n",
       "    .dataframe thead th {\n",
       "        text-align: right;\n",
       "    }\n",
       "</style>\n",
       "<table border=\"1\" class=\"dataframe\">\n",
       "  <thead>\n",
       "    <tr style=\"text-align: right;\">\n",
       "      <th></th>\n",
       "      <th>Lat</th>\n",
       "      <th>Lng</th>\n",
       "      <th>Max Temp</th>\n",
       "      <th>Humidity</th>\n",
       "      <th>Cloudiness</th>\n",
       "      <th>Wind Speed</th>\n",
       "    </tr>\n",
       "  </thead>\n",
       "  <tbody>\n",
       "    <tr>\n",
       "      <th>count</th>\n",
       "      <td>564.000000</td>\n",
       "      <td>564.000000</td>\n",
       "      <td>564.000000</td>\n",
       "      <td>564.000000</td>\n",
       "      <td>564.000000</td>\n",
       "      <td>564.000000</td>\n",
       "    </tr>\n",
       "    <tr>\n",
       "      <th>mean</th>\n",
       "      <td>19.327866</td>\n",
       "      <td>11.794693</td>\n",
       "      <td>62.314096</td>\n",
       "      <td>69.203901</td>\n",
       "      <td>57.319149</td>\n",
       "      <td>8.033830</td>\n",
       "    </tr>\n",
       "    <tr>\n",
       "      <th>std</th>\n",
       "      <td>34.169081</td>\n",
       "      <td>89.151554</td>\n",
       "      <td>20.892054</td>\n",
       "      <td>21.530826</td>\n",
       "      <td>38.154090</td>\n",
       "      <td>5.754849</td>\n",
       "    </tr>\n",
       "    <tr>\n",
       "      <th>min</th>\n",
       "      <td>-54.800000</td>\n",
       "      <td>-179.166700</td>\n",
       "      <td>-13.490000</td>\n",
       "      <td>8.000000</td>\n",
       "      <td>0.000000</td>\n",
       "      <td>0.000000</td>\n",
       "    </tr>\n",
       "    <tr>\n",
       "      <th>25%</th>\n",
       "      <td>-8.807350</td>\n",
       "      <td>-63.350075</td>\n",
       "      <td>45.687500</td>\n",
       "      <td>58.000000</td>\n",
       "      <td>20.000000</td>\n",
       "      <td>3.440000</td>\n",
       "    </tr>\n",
       "    <tr>\n",
       "      <th>50%</th>\n",
       "      <td>21.551700</td>\n",
       "      <td>14.970700</td>\n",
       "      <td>68.920000</td>\n",
       "      <td>74.000000</td>\n",
       "      <td>70.000000</td>\n",
       "      <td>6.910000</td>\n",
       "    </tr>\n",
       "    <tr>\n",
       "      <th>75%</th>\n",
       "      <td>49.547950</td>\n",
       "      <td>83.531675</td>\n",
       "      <td>78.407500</td>\n",
       "      <td>86.000000</td>\n",
       "      <td>96.000000</td>\n",
       "      <td>11.377500</td>\n",
       "    </tr>\n",
       "    <tr>\n",
       "      <th>max</th>\n",
       "      <td>78.218600</td>\n",
       "      <td>179.316700</td>\n",
       "      <td>100.710000</td>\n",
       "      <td>100.000000</td>\n",
       "      <td>100.000000</td>\n",
       "      <td>35.680000</td>\n",
       "    </tr>\n",
       "  </tbody>\n",
       "</table>\n",
       "</div>"
      ],
      "text/plain": [
       "              Lat         Lng    Max Temp    Humidity  Cloudiness  Wind Speed\n",
       "count  564.000000  564.000000  564.000000  564.000000  564.000000  564.000000\n",
       "mean    19.327866   11.794693   62.314096   69.203901   57.319149    8.033830\n",
       "std     34.169081   89.151554   20.892054   21.530826   38.154090    5.754849\n",
       "min    -54.800000 -179.166700  -13.490000    8.000000    0.000000    0.000000\n",
       "25%     -8.807350  -63.350075   45.687500   58.000000   20.000000    3.440000\n",
       "50%     21.551700   14.970700   68.920000   74.000000   70.000000    6.910000\n",
       "75%     49.547950   83.531675   78.407500   86.000000   96.000000   11.377500\n",
       "max     78.218600  179.316700  100.710000  100.000000  100.000000   35.680000"
      ]
     },
     "execution_count": 6,
     "metadata": {},
     "output_type": "execute_result"
    }
   ],
   "source": [
    "city_data_df.describe()"
   ]
  },
  {
   "cell_type": "code",
   "execution_count": 7,
   "metadata": {},
   "outputs": [],
   "source": [
    "# Export the city data into a csv file\n",
    "city_data_df.to_csv(\"../output_data/city_data.csv\", index=False)"
   ]
  },
  {
   "cell_type": "markdown",
   "metadata": {},
   "source": [
    "## Inspect the data and remove the cities where the humidity > 100%.\n",
    "----\n",
    "Skip this step if there are no cities that have humidity > 100%. "
   ]
  },
  {
   "cell_type": "code",
   "execution_count": 8,
   "metadata": {},
   "outputs": [
    {
     "data": {
      "text/html": [
       "<div>\n",
       "<style scoped>\n",
       "    .dataframe tbody tr th:only-of-type {\n",
       "        vertical-align: middle;\n",
       "    }\n",
       "\n",
       "    .dataframe tbody tr th {\n",
       "        vertical-align: top;\n",
       "    }\n",
       "\n",
       "    .dataframe thead th {\n",
       "        text-align: right;\n",
       "    }\n",
       "</style>\n",
       "<table border=\"1\" class=\"dataframe\">\n",
       "  <thead>\n",
       "    <tr style=\"text-align: right;\">\n",
       "      <th></th>\n",
       "      <th>City</th>\n",
       "      <th>Lat</th>\n",
       "      <th>Lng</th>\n",
       "      <th>Max Temp</th>\n",
       "      <th>Humidity</th>\n",
       "      <th>Cloudiness</th>\n",
       "      <th>Wind Speed</th>\n",
       "      <th>Country</th>\n",
       "      <th>Date</th>\n",
       "    </tr>\n",
       "  </thead>\n",
       "  <tbody>\n",
       "    <tr>\n",
       "      <th>0</th>\n",
       "      <td>Codrington</td>\n",
       "      <td>-38.2667</td>\n",
       "      <td>141.9667</td>\n",
       "      <td>50.68</td>\n",
       "      <td>86</td>\n",
       "      <td>50</td>\n",
       "      <td>15.28</td>\n",
       "      <td>AU</td>\n",
       "      <td>10-19-2021</td>\n",
       "    </tr>\n",
       "    <tr>\n",
       "      <th>1</th>\n",
       "      <td>Westerland</td>\n",
       "      <td>54.9079</td>\n",
       "      <td>8.3033</td>\n",
       "      <td>59.18</td>\n",
       "      <td>100</td>\n",
       "      <td>90</td>\n",
       "      <td>21.85</td>\n",
       "      <td>DE</td>\n",
       "      <td>10-19-2021</td>\n",
       "    </tr>\n",
       "    <tr>\n",
       "      <th>2</th>\n",
       "      <td>Cape Town</td>\n",
       "      <td>-33.9258</td>\n",
       "      <td>18.4232</td>\n",
       "      <td>66.34</td>\n",
       "      <td>61</td>\n",
       "      <td>0</td>\n",
       "      <td>1.99</td>\n",
       "      <td>ZA</td>\n",
       "      <td>10-19-2021</td>\n",
       "    </tr>\n",
       "    <tr>\n",
       "      <th>3</th>\n",
       "      <td>Kulhudhuffushi</td>\n",
       "      <td>6.6221</td>\n",
       "      <td>73.0700</td>\n",
       "      <td>81.88</td>\n",
       "      <td>74</td>\n",
       "      <td>44</td>\n",
       "      <td>11.25</td>\n",
       "      <td>MV</td>\n",
       "      <td>10-19-2021</td>\n",
       "    </tr>\n",
       "    <tr>\n",
       "      <th>4</th>\n",
       "      <td>Atuona</td>\n",
       "      <td>-9.8000</td>\n",
       "      <td>-139.0333</td>\n",
       "      <td>78.39</td>\n",
       "      <td>75</td>\n",
       "      <td>26</td>\n",
       "      <td>21.00</td>\n",
       "      <td>PF</td>\n",
       "      <td>10-19-2021</td>\n",
       "    </tr>\n",
       "    <tr>\n",
       "      <th>...</th>\n",
       "      <td>...</td>\n",
       "      <td>...</td>\n",
       "      <td>...</td>\n",
       "      <td>...</td>\n",
       "      <td>...</td>\n",
       "      <td>...</td>\n",
       "      <td>...</td>\n",
       "      <td>...</td>\n",
       "      <td>...</td>\n",
       "    </tr>\n",
       "    <tr>\n",
       "      <th>559</th>\n",
       "      <td>Ile-Ife</td>\n",
       "      <td>7.4667</td>\n",
       "      <td>4.5667</td>\n",
       "      <td>73.63</td>\n",
       "      <td>96</td>\n",
       "      <td>72</td>\n",
       "      <td>2.98</td>\n",
       "      <td>NG</td>\n",
       "      <td>10-19-2021</td>\n",
       "    </tr>\n",
       "    <tr>\n",
       "      <th>560</th>\n",
       "      <td>Constitución</td>\n",
       "      <td>-35.3333</td>\n",
       "      <td>-72.4167</td>\n",
       "      <td>66.02</td>\n",
       "      <td>58</td>\n",
       "      <td>4</td>\n",
       "      <td>5.99</td>\n",
       "      <td>CL</td>\n",
       "      <td>10-19-2021</td>\n",
       "    </tr>\n",
       "    <tr>\n",
       "      <th>561</th>\n",
       "      <td>Sambava</td>\n",
       "      <td>-14.2667</td>\n",
       "      <td>50.1667</td>\n",
       "      <td>72.81</td>\n",
       "      <td>83</td>\n",
       "      <td>63</td>\n",
       "      <td>7.78</td>\n",
       "      <td>MG</td>\n",
       "      <td>10-19-2021</td>\n",
       "    </tr>\n",
       "    <tr>\n",
       "      <th>562</th>\n",
       "      <td>Trojes</td>\n",
       "      <td>41.7560</td>\n",
       "      <td>19.9620</td>\n",
       "      <td>52.29</td>\n",
       "      <td>69</td>\n",
       "      <td>18</td>\n",
       "      <td>4.79</td>\n",
       "      <td>AL</td>\n",
       "      <td>10-19-2021</td>\n",
       "    </tr>\n",
       "    <tr>\n",
       "      <th>563</th>\n",
       "      <td>Oberá</td>\n",
       "      <td>-27.4871</td>\n",
       "      <td>-55.1199</td>\n",
       "      <td>76.86</td>\n",
       "      <td>38</td>\n",
       "      <td>1</td>\n",
       "      <td>6.73</td>\n",
       "      <td>AR</td>\n",
       "      <td>10-19-2021</td>\n",
       "    </tr>\n",
       "  </tbody>\n",
       "</table>\n",
       "<p>564 rows × 9 columns</p>\n",
       "</div>"
      ],
      "text/plain": [
       "               City      Lat       Lng  Max Temp  Humidity  Cloudiness  \\\n",
       "0        Codrington -38.2667  141.9667     50.68        86          50   \n",
       "1        Westerland  54.9079    8.3033     59.18       100          90   \n",
       "2         Cape Town -33.9258   18.4232     66.34        61           0   \n",
       "3    Kulhudhuffushi   6.6221   73.0700     81.88        74          44   \n",
       "4            Atuona  -9.8000 -139.0333     78.39        75          26   \n",
       "..              ...      ...       ...       ...       ...         ...   \n",
       "559         Ile-Ife   7.4667    4.5667     73.63        96          72   \n",
       "560    Constitución -35.3333  -72.4167     66.02        58           4   \n",
       "561         Sambava -14.2667   50.1667     72.81        83          63   \n",
       "562          Trojes  41.7560   19.9620     52.29        69          18   \n",
       "563           Oberá -27.4871  -55.1199     76.86        38           1   \n",
       "\n",
       "     Wind Speed Country        Date  \n",
       "0         15.28      AU  10-19-2021  \n",
       "1         21.85      DE  10-19-2021  \n",
       "2          1.99      ZA  10-19-2021  \n",
       "3         11.25      MV  10-19-2021  \n",
       "4         21.00      PF  10-19-2021  \n",
       "..          ...     ...         ...  \n",
       "559        2.98      NG  10-19-2021  \n",
       "560        5.99      CL  10-19-2021  \n",
       "561        7.78      MG  10-19-2021  \n",
       "562        4.79      AL  10-19-2021  \n",
       "563        6.73      AR  10-19-2021  \n",
       "\n",
       "[564 rows x 9 columns]"
      ]
     },
     "execution_count": 8,
     "metadata": {},
     "output_type": "execute_result"
    }
   ],
   "source": [
    "# Drop any row which has a humidity higher than 100%\n",
    "cleaned_cities_df = city_data_df.loc[city_data_df['Humidity'] <= 100]\n",
    "cleaned_cities_df"
   ]
  },
  {
   "cell_type": "code",
   "execution_count": 9,
   "metadata": {},
   "outputs": [
    {
     "data": {
      "text/html": [
       "<div>\n",
       "<style scoped>\n",
       "    .dataframe tbody tr th:only-of-type {\n",
       "        vertical-align: middle;\n",
       "    }\n",
       "\n",
       "    .dataframe tbody tr th {\n",
       "        vertical-align: top;\n",
       "    }\n",
       "\n",
       "    .dataframe thead th {\n",
       "        text-align: right;\n",
       "    }\n",
       "</style>\n",
       "<table border=\"1\" class=\"dataframe\">\n",
       "  <thead>\n",
       "    <tr style=\"text-align: right;\">\n",
       "      <th></th>\n",
       "      <th>City</th>\n",
       "      <th>Lat</th>\n",
       "      <th>Lng</th>\n",
       "      <th>Max Temp</th>\n",
       "      <th>Humidity</th>\n",
       "      <th>Cloudiness</th>\n",
       "      <th>Wind Speed</th>\n",
       "      <th>Country</th>\n",
       "      <th>Date</th>\n",
       "    </tr>\n",
       "  </thead>\n",
       "  <tbody>\n",
       "  </tbody>\n",
       "</table>\n",
       "</div>"
      ],
      "text/plain": [
       "Empty DataFrame\n",
       "Columns: [City, Lat, Lng, Max Temp, Humidity, Cloudiness, Wind Speed, Country, Date]\n",
       "Index: []"
      ]
     },
     "execution_count": 9,
     "metadata": {},
     "output_type": "execute_result"
    }
   ],
   "source": [
    "#  Get the indices of cities that have humidity over 100%.\n",
    "cleaned_cities_2_df = city_data_df.loc[city_data_df['Humidity'] > 100]\n",
    "cleaned_cities_2_df"
   ]
  },
  {
   "cell_type": "code",
   "execution_count": 10,
   "metadata": {},
   "outputs": [
    {
     "name": "stdout",
     "output_type": "stream",
     "text": [
      "There are no cities with Humidity greater than 100. Skipping to next step.\n"
     ]
    }
   ],
   "source": [
    "print(\"There are no cities with Humidity greater than 100. Skipping to next step.\")"
   ]
  },
  {
   "cell_type": "code",
   "execution_count": 11,
   "metadata": {},
   "outputs": [],
   "source": [
    "# Make a new DataFrame equal to the city data to drop all humidity outliers by index.\n",
    "# Passing \"inplace=False\" will make a copy of the city_data DataFrame, which we call \"clean_city_data\".\n"
   ]
  },
  {
   "cell_type": "code",
   "execution_count": null,
   "metadata": {},
   "outputs": [],
   "source": [
    "\n"
   ]
  },
  {
   "cell_type": "markdown",
   "metadata": {},
   "source": [
    "## Plotting the Data\n",
    "* Use proper labeling of the plots using plot titles (including date of analysis) and axes labels.\n",
    "* Save the plotted figures as .pngs."
   ]
  },
  {
   "cell_type": "markdown",
   "metadata": {},
   "source": [
    "## Latitude vs. Temperature Plot"
   ]
  },
  {
   "cell_type": "code",
   "execution_count": 12,
   "metadata": {
    "scrolled": true
   },
   "outputs": [
    {
     "data": {
      "image/png": "[encoded data removed]",
      "text/plain": [
       "<Figure size 432x288 with 1 Axes>"
      ]
     },
     "metadata": {
      "needs_background": "light"
     },
     "output_type": "display_data"
    }
   ],
   "source": [
    "plt.scatter(city_data_df[\"Lat\"], city_data_df[\"Max Temp\"])\n",
    "plt.grid()\n",
    "plt.xlabel(\"Latitude\")\n",
    "plt.ylabel(\"Temperature (°F)\")\n",
    "plt.title(f'Temperature (°F) vs Latitude ({date})')\n",
    "\n",
    "plt.savefig(\"../images/tempvslat.png\")"
   ]
  },
  {
   "cell_type": "markdown",
   "metadata": {},
   "source": [
    "As latitute moves towards 0 or the equator, the temperature increases. Vice versa, as you move away from 0, it is colder. "
   ]
  },
  {
   "cell_type": "markdown",
   "metadata": {},
   "source": [
    "## Latitude vs. Humidity Plot"
   ]
  },
  {
   "cell_type": "code",
   "execution_count": 16,
   "metadata": {},
   "outputs": [
    {
     "data": {
      "image/png": "[encoded data removed]",
      "text/plain": [
       "<Figure size 432x288 with 1 Axes>"
      ]
     },
     "metadata": {
      "needs_background": "light"
     },
     "output_type": "display_data"
    }
   ],
   "source": [
    "plt.scatter(city_data_df[\"Lat\"], city_data_df[\"Humidity\"])\n",
    "plt.grid()\n",
    "plt.xlabel(\"Latitude\")\n",
    "plt.ylabel(\"Humidity (%)\")\n",
    "plt.title(f'Humidity (%) vs Latitude ({date})')\n",
    "\n",
    "plt.savefig(\"../images/humidityvslat.png\")"
   ]
  },
  {
   "cell_type": "markdown",
   "metadata": {},
   "source": [
    "Most citites have humidity above 60%, while others with a latitude between 0-40 varies more. Citites with latitude between 40 - 80 have humidity between 80-100%. "
   ]
  },
  {
   "cell_type": "markdown",
   "metadata": {},
   "source": [
    "## Latitude vs. Cloudiness Plot"
   ]
  },
  {
   "cell_type": "code",
   "execution_count": 17,
   "metadata": {},
   "outputs": [
    {
     "data": {
      "image/png": "[encoded data removed]",
      "text/plain": [
       "<Figure size 432x288 with 1 Axes>"
      ]
     },
     "metadata": {
      "needs_background": "light"
     },
     "output_type": "display_data"
    }
   ],
   "source": [
    "plt.scatter(city_data_df[\"Lat\"], city_data_df[\"Cloudiness\"])\n",
    "plt.grid()\n",
    "plt.xlabel(\"Latitude\")\n",
    "plt.ylabel(\"Cloudiness (%)\")\n",
    "plt.title(f'Cloudiness (%) vs Latitude ({date})')\n",
    "\n",
    "plt.savefig(\"../images/cloudinessvslat.png\")"
   ]
  },
  {
   "cell_type": "markdown",
   "metadata": {},
   "source": [
    "Cities with latitude 40 - 80 are precieved to have a cloudiness around 80% - 100%. However, most of the data points are realtively distributed. Therefore, there is not much of a correlation between coludiness and latitude."
   ]
  },
  {
   "cell_type": "markdown",
   "metadata": {},
   "source": [
    "## Latitude vs. Wind Speed Plot"
   ]
  },
  {
   "cell_type": "code",
   "execution_count": 18,
   "metadata": {},
   "outputs": [
    {
     "data": {
      "image/png": "[encoded data removed]",
      "text/plain": [
       "<Figure size 432x288 with 1 Axes>"
      ]
     },
     "metadata": {
      "needs_background": "light"
     },
     "output_type": "display_data"
    }
   ],
   "source": [
    "plt.scatter(city_data_df[\"Lat\"], city_data_df[\"Wind Speed\"])\n",
    "plt.grid()\n",
    "plt.xlabel(\"Latitude\")\n",
    "plt.ylabel(\"Wind Speed (mph)\")\n",
    "plt.title(f'Wind Speed (mph) vs Latitude ({date})')\n",
    "\n",
    "plt.savefig(\"../images/windspeedvslat.png\")"
   ]
  },
  {
   "cell_type": "markdown",
   "metadata": {},
   "source": [
    "A mjority of the cities have a wind speed of 0MPH to 8MPH, with some cities at a higher(positive and negative) latitude having higher wind speed."
   ]
  },
  {
   "cell_type": "markdown",
   "metadata": {},
   "source": [
    "## Linear Regression"
   ]
  },
  {
   "cell_type": "code",
   "execution_count": 19,
   "metadata": {},
   "outputs": [],
   "source": [
    "northern_cities = city_data_df[city_data_df.loc[:, \"Lat\"] >= 0]\n",
    "southern_cities = city_data_df[city_data_df.loc[:, \"Lat\"] < 0]"
   ]
  },
  {
   "cell_type": "code",
   "execution_count": 20,
   "metadata": {},
   "outputs": [],
   "source": [
    "#north and south dataframes\n",
    "northlat_df = city_data_df.loc[city_data_df[\"Lat\"] >= 0,:]\n",
    "southlat_df = city_data_df.loc[city_data_df[\"Lat\"] < 0,:]"
   ]
  },
  {
   "cell_type": "markdown",
   "metadata": {},
   "source": [
    "####  Northern Hemisphere - Max Temp vs. Latitude Linear Regression"
   ]
  },
  {
   "cell_type": "code",
   "execution_count": 23,
   "metadata": {},
   "outputs": [
    {
     "data": {
      "image/png": "[encoded data removed]",
      "text/plain": [
       "<Figure size 432x288 with 1 Axes>"
      ]
     },
     "metadata": {
      "needs_background": "light"
     },
     "output_type": "display_data"
    }
   ],
   "source": [
    "plt.scatter(northern_cities[\"Lat\"], northern_cities[\"Max Temp\"])\n",
    "plt.grid()\n",
    "plt.xlabel(\"Latitude\")\n",
    "plt.ylabel(\"Temperature (°F)\")\n",
    "plt.title(f'Temperature (°F) vs Latitude (Northern Hem.) ({date})')\n",
    "(slope, intercept, rvalue, pvalue, stderr) = linregress(northern_cities[\"Lat\"], northern_cities[\"Max Temp\"])\n",
    "regress_values = northern_cities[\"Lat\"] * slope + intercept\n",
    "line_equation = \"y = \" + str(round(slope,2)) + \"x + \" + str(round(intercept,2))\n",
    "plt.annotate(line_equation,(5,30), fontsize=13,color=\"red\")\n",
    "plt.plot(northern_cities[\"Lat\"],regress_values,\"r-\")\n",
    "\n",
    "plt.savefig(\"../images/tempvlatnorthernhem.png\")"
   ]
  },
  {
   "cell_type": "markdown",
   "metadata": {},
   "source": [
    "In the northern hemisphere, the max temperature decreases while the city is away from 0 degree latitude. The high r value inidicates a strong positive correlation. "
   ]
  },
  {
   "cell_type": "markdown",
   "metadata": {},
   "source": [
    "####  Southern Hemisphere - Max Temp vs. Latitude Linear Regression"
   ]
  },
  {
   "cell_type": "code",
   "execution_count": 26,
   "metadata": {},
   "outputs": [
    {
     "data": {
      "image/png": "[encoded data removed]",
      "text/plain": [
       "<Figure size 432x288 with 1 Axes>"
      ]
     },
     "metadata": {
      "needs_background": "light"
     },
     "output_type": "display_data"
    }
   ],
   "source": [
    "plt.scatter(southern_cities[\"Lat\"], southern_cities[\"Max Temp\"])\n",
    "plt.grid()\n",
    "plt.xlabel(\"Latitude\")\n",
    "plt.ylabel(\"Temperature (°F)\")\n",
    "plt.title(\"Temperature (°F) vs Latitude (Southern Hem.)\")\n",
    "(slope, intercept, rvalue, pvalue, stderr) = linregress(southern_cities[\"Lat\"], southern_cities[\"Max Temp\"])\n",
    "regress_values = southern_cities[\"Lat\"] * slope + intercept\n",
    "line_equation = \"y = \" + str(round(slope,2)) + \"x + \" + str(round(intercept,2))\n",
    "plt.annotate(line_equation,(-55,81),fontsize=12,color=\"red\")\n",
    "plt.plot(southern_cities[\"Lat\"],regress_values,\"r-\")\n",
    "\n",
    "plt.savefig(\"../images/tempvlatsouthernhem.png\")\n"
   ]
  },
  {
   "cell_type": "markdown",
   "metadata": {},
   "source": [
    "In the southern hemisphere, the max temperature increases while the city is close to 0 degree latitude. The high r value inidicates a strong positive correlation."
   ]
  },
  {
   "cell_type": "markdown",
   "metadata": {},
   "source": [
    "####  Northern Hemisphere - Humidity (%) vs. Latitude Linear Regression"
   ]
  },
  {
   "cell_type": "code",
   "execution_count": 27,
   "metadata": {},
   "outputs": [
    {
     "data": {
      "image/png": "[encoded data removed]",
      "text/plain": [
       "<Figure size 432x288 with 1 Axes>"
      ]
     },
     "metadata": {
      "needs_background": "light"
     },
     "output_type": "display_data"
    }
   ],
   "source": [
    "plt.scatter(northern_cities[\"Lat\"], northern_cities[\"Humidity\"])\n",
    "plt.grid()\n",
    "plt.xlabel(\"Latitude\")\n",
    "plt.ylabel(\"Humidity\")\n",
    "plt.title(\"Humidity vs Latitude (Northern Hem.)\")\n",
    "(slope, intercept, rvalue, pvalue, stderr) = linregress(northern_cities[\"Lat\"], northern_cities[\"Humidity\"])\n",
    "regress_values = northern_cities[\"Lat\"] * slope + intercept\n",
    "line_equation = \"y = \" + str(round(slope,2)) + \"x + \" + str(round(intercept,2))\n",
    "plt.annotate(line_equation,(48,10),fontsize=13,color=\"red\")\n",
    "plt.plot(northern_cities[\"Lat\"],regress_values,\"r-\")\n",
    "\n",
    "plt.savefig(\"../images/NorthernHemHumidityvLat.png\")"
   ]
  },
  {
   "cell_type": "markdown",
   "metadata": {},
   "source": [
    "In the northern hemisphere, the humidity increases while the city is further away from 0 degree latitude. \n",
    "The low r value indicates little to no relationship between humidity and latitude."
   ]
  },
  {
   "cell_type": "markdown",
   "metadata": {},
   "source": [
    "####  Southern Hemisphere - Humidity (%) vs. Latitude Linear Regression"
   ]
  },
  {
   "cell_type": "code",
   "execution_count": 29,
   "metadata": {},
   "outputs": [
    {
     "data": {
      "image/png": "[encoded data removed]",
      "text/plain": [
       "<Figure size 432x288 with 1 Axes>"
      ]
     },
     "metadata": {
      "needs_background": "light"
     },
     "output_type": "display_data"
    }
   ],
   "source": [
    "plt.scatter(southern_cities[\"Lat\"], southern_cities[\"Humidity\"])\n",
    "plt.grid()\n",
    "plt.xlabel(\"Latitude\")\n",
    "plt.ylabel(\"Humidity\")\n",
    "plt.title(\"Humidity vs Latitude (Southern Hem.)\")\n",
    "(slope, intercept, rvalue, pvalue, stderr) = linregress(southern_cities[\"Lat\"], southern_cities[\"Humidity\"])\n",
    "regress_values = southern_cities[\"Lat\"] * slope + intercept\n",
    "line_equation = \"y = \" + str(round(slope,2)) + \"x + \" + str(round(intercept,2))\n",
    "plt.annotate(line_equation,(-55,25), fontsize=13,color=\"red\")\n",
    "plt.plot(southern_cities[\"Lat\"],regress_values,\"r-\")\n",
    "\n",
    "plt.savefig(\"../images/SourthernHemHumidityvLat.png\")"
   ]
  },
  {
   "cell_type": "markdown",
   "metadata": {},
   "source": [
    "In the southern hemisphere, the humidity slightly increases while the city is closer to 0 degree latitude. \n",
    "The low r value indicates little to no correlation between humidity and latitude."
   ]
  },
  {
   "cell_type": "markdown",
   "metadata": {},
   "source": [
    "####  Northern Hemisphere - Cloudiness (%) vs. Latitude Linear Regression"
   ]
  },
  {
   "cell_type": "code",
   "execution_count": 30,
   "metadata": {},
   "outputs": [
    {
     "data": {
      "image/png": "[encoded data removed]",
      "text/plain": [
       "<Figure size 432x288 with 1 Axes>"
      ]
     },
     "metadata": {
      "needs_background": "light"
     },
     "output_type": "display_data"
    }
   ],
   "source": [
    "plt.scatter(northern_cities[\"Lat\"], northern_cities[\"Cloudiness\"])\n",
    "plt.grid()\n",
    "plt.xlabel(\"Latitude\")\n",
    "plt.ylabel(\"Cloudiness\")\n",
    "plt.title(\"Cloudiness vs Latitude (Northern Hem.)\")\n",
    "(slope, intercept, rvalue, pvalue, stderr) = linregress(northern_cities[\"Lat\"], northern_cities[\"Cloudiness\"])\n",
    "regress_values = northern_cities[\"Lat\"] * slope + intercept\n",
    "line_equation = \"y = \" + str(round(slope,2)) + \"x + \" + str(round(intercept,2))\n",
    "plt.annotate(line_equation,(49,10), fontsize=13,color=\"red\")\n",
    "plt.plot(northern_cities[\"Lat\"],regress_values,\"r-\")\n",
    "\n",
    "plt.savefig(\"../images/NorthernHemCloudinessvLat.png\")"
   ]
  },
  {
   "cell_type": "markdown",
   "metadata": {},
   "source": [
    "In the northern hemisphere, the cloudiness increases while the city is further away from 0 degree latitude.\n",
    "The low r value indicates little to no relationship between humidity and latitude."
   ]
  },
  {
   "cell_type": "markdown",
   "metadata": {},
   "source": [
    "####  Southern Hemisphere - Cloudiness (%) vs. Latitude Linear Regression"
   ]
  },
  {
   "cell_type": "code",
   "execution_count": 31,
   "metadata": {},
   "outputs": [
    {
     "data": {
      "image/png": "[encoded data removed]",
      "text/plain": [
       "<Figure size 432x288 with 1 Axes>"
      ]
     },
     "metadata": {
      "needs_background": "light"
     },
     "output_type": "display_data"
    }
   ],
   "source": [
    "plt.scatter(southern_cities[\"Lat\"], southern_cities[\"Cloudiness\"])\n",
    "plt.grid()\n",
    "plt.xlabel(\"Latitude\")\n",
    "plt.ylabel(\"Cloudiness\")\n",
    "plt.title(\"Cloudiness vs Latitude (Southern Hem.)\")\n",
    "(slope, intercept, rvalue, pvalue, stderr) = linregress(southern_cities[\"Lat\"], southern_cities[\"Cloudiness\"])\n",
    "regress_values = southern_cities[\"Lat\"] * slope + intercept\n",
    "line_equation = \"y = \" + str(round(slope,2)) + \"x + \" + str(round(intercept,2))\n",
    "plt.annotate(line_equation,(-55,22),fontsize=13,color=\"red\")\n",
    "plt.plot(southern_cities[\"Lat\"], regress_values,\"r-\")\n",
    "\n",
    "plt.savefig('../images/sSouthernHemCloudinessvLat.png')"
   ]
  },
  {
   "cell_type": "markdown",
   "metadata": {},
   "source": [
    "In the southern hemisphere, the cloudiness increases while the city is closer to 0 degree latitude. The low r value also indicates a little correlation between latitude and cloudiness."
   ]
  },
  {
   "cell_type": "markdown",
   "metadata": {},
   "source": [
    "####  Northern Hemisphere - Wind Speed (mph) vs. Latitude Linear Regression"
   ]
  },
  {
   "cell_type": "code",
   "execution_count": 32,
   "metadata": {},
   "outputs": [
    {
     "data": {
      "image/png": "[encoded data removed]",
      "text/plain": [
       "<Figure size 432x288 with 1 Axes>"
      ]
     },
     "metadata": {
      "needs_background": "light"
     },
     "output_type": "display_data"
    }
   ],
   "source": [
    "plt.scatter(northern_cities[\"Lat\"], northern_cities[\"Wind Speed\"])\n",
    "plt.grid()\n",
    "plt.xlabel(\"Latitude\")\n",
    "plt.ylabel(\"Wind Speed\")\n",
    "plt.title(\"Wind Speed (mph) vs Latitude (Northern Hem)\")\n",
    "(slope, intercept, rvalue, pvalue, stderr) = linregress(northern_cities[\"Lat\"], northern_cities[\"Wind Speed\"])\n",
    "regress_values = northern_cities[\"Lat\"] * slope + intercept\n",
    "line_equation = \"y = \" + str(round(slope,2)) + \"x + \" + str(round(intercept,2))\n",
    "plt.annotate(line_equation,(49,22),fontsize=13,color=\"red\")\n",
    "plt.plot(northern_cities[\"Lat\"], regress_values,\"r-\")\n",
    "\n",
    "plt.savefig('../images/NorthernHemWindvLat.png')"
   ]
  },
  {
   "cell_type": "markdown",
   "metadata": {},
   "source": [
    "In the northern hemisphere, the wind speed does not seem to be related to whether the city is close from 0 degree latitude. The low r value also indicates little to no correlation between humidity and latitude."
   ]
  },
  {
   "cell_type": "markdown",
   "metadata": {},
   "source": [
    "####  Southern Hemisphere - Wind Speed (mph) vs. Latitude Linear Regression"
   ]
  },
  {
   "cell_type": "code",
   "execution_count": 33,
   "metadata": {},
   "outputs": [
    {
     "data": {
      "image/png": "[encoded data removed]",
      "text/plain": [
       "<Figure size 432x288 with 1 Axes>"
      ]
     },
     "metadata": {
      "needs_background": "light"
     },
     "output_type": "display_data"
    }
   ],
   "source": [
    "plt.scatter(southern_cities[\"Lat\"], southern_cities[\"Wind Speed\"])\n",
    "plt.grid()\n",
    "plt.xlabel(\"Latitude\")\n",
    "plt.ylabel(\"Wind Speed\")\n",
    "plt.title(\"Wind Speed (mph) vs Latitude (Southern Hem)\")\n",
    "(slope, intercept, rvalue, pvalue, stderr) = linregress(southern_cities[\"Lat\"], southern_cities[\"Wind Speed\"])\n",
    "regress_values = southern_cities[\"Lat\"] * slope + intercept\n",
    "line_equation = \"y = \" + str(round(slope,2)) + \"x + \" + str(round(intercept,2))\n",
    "plt.annotate(line_equation,(-55,17),fontsize=13,color=\"red\")\n",
    "plt.plot(southern_cities[\"Lat\"], regress_values,\"r-\")\n",
    "\n",
    "plt.savefig('../images/SouthernHemWindvLat.png')"
   ]
  },
  {
   "cell_type": "markdown",
   "metadata": {},
   "source": [
    "In the southern hemisphere, the wind speed does not seem related to whether the city is close to 0 degree latitude.\n",
    "The low r value also indicates little to no correlation between humidity and latitude."
   ]
  },
  {
   "attachments": {},
   "cell_type": "markdown",
   "metadata": {},
   "source": [
    "Part I Observation Trends:\n",
    "\n",
    "1.\tThe first trend I noticed in this dataset is that there is a strong correlation between latitude and temperature. The closer you get to the equator (0 degrees), the hotter it gets. As you move away from the equator, it gets colder. \n",
    "\n",
    "2.\tThere appears to be no correlation between latitude and humidity. Both the Northern Hemisphere and Southern Hemisphere have a large variance of percentages from around 10 to 100.\n",
    "\n",
    "3.\tThere appears to be no correlation between latitude and wind speed. Both the Northern Hemisphere and Southern Hemisphere speeds from around 10 to 100.\n",
    "\n",
    "4.\tThe correlation between latitude and cloudiness has little correlation to each other. However, a large portion of the data points are gathered at both 0 and 100."
   ]
  },
  {
   "cell_type": "code",
   "execution_count": null,
   "metadata": {},
   "outputs": [],
   "source": []
  }
 ],
 "metadata": {
  "anaconda-cloud": {},
  "kernel_info": {
   "name": "python3"
  },
  "kernelspec": {
   "display_name": "Python 3",
   "language": "python",
   "name": "python3"
  },
  "language_info": {
   "codemirror_mode": {
    "name": "ipython",
    "version": 3
   },
   "file_extension": ".py",
   "mimetype": "text/x-python",
   "name": "python",
   "nbconvert_exporter": "python",
   "pygments_lexer": "ipython3",
   "version": "3.8.8"
  },
  "latex_envs": {
   "LaTeX_envs_menu_present": true,
   "autoclose": false,
   "autocomplete": true,
   "bibliofile": "biblio.bib",
   "cite_by": "apalike",
   "current_citInitial": 1,
   "eqLabelWithNumbers": true,
   "eqNumInitial": 1,
   "hotkeys": {
    "equation": "Ctrl-E",
    "itemize": "Ctrl-I"
   },
   "labels_anchors": false,
   "latex_user_defs": false,
   "report_style_numbering": false,
   "user_envs_cfg": false
  },
  "nteract": {
   "version": "0.12.3"
  }
 },
 "nbformat": 4,
 "nbformat_minor": 2
}
