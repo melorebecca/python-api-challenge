{
 "cells": [
  {
   "cell_type": "markdown",
   "metadata": {},
   "source": [
    "# VacationPy\n",
    "----\n",
    "\n",
    "#### Note\n",
    "* Keep an eye on your API usage. Use https://developers.google.com/maps/reporting/gmp-reporting as reference for how to monitor your usage and billing.\n",
    "\n",
    "* Instructions have been included for each segment. You do not have to follow them exactly, but they are included to help you think through the steps."
   ]
  },
  {
   "cell_type": "code",
   "execution_count": 1,
   "metadata": {},
   "outputs": [],
   "source": [
    "# Dependencies and Setup\n",
    "import matplotlib.pyplot as plt\n",
    "import pandas as pd\n",
    "import numpy as np\n",
    "import requests\n",
    "import gmaps\n",
    "import os\n",
    "import json\n",
    "\n",
    "# Import API key\n",
    "from api_keys import g_key"
   ]
  },
  {
   "cell_type": "markdown",
   "metadata": {},
   "source": [
    "### Store Part I results into DataFrame\n",
    "* Load the csv exported in Part I to a DataFrame"
   ]
  },
  {
   "cell_type": "code",
   "execution_count": 2,
   "metadata": {},
   "outputs": [
    {
     "data": {
      "text/html": [
       "<div>\n",
       "<style scoped>\n",
       "    .dataframe tbody tr th:only-of-type {\n",
       "        vertical-align: middle;\n",
       "    }\n",
       "\n",
       "    .dataframe tbody tr th {\n",
       "        vertical-align: top;\n",
       "    }\n",
       "\n",
       "    .dataframe thead th {\n",
       "        text-align: right;\n",
       "    }\n",
       "</style>\n",
       "<table border=\"1\" class=\"dataframe\">\n",
       "  <thead>\n",
       "    <tr style=\"text-align: right;\">\n",
       "      <th></th>\n",
       "      <th>City</th>\n",
       "      <th>Lat</th>\n",
       "      <th>Lng</th>\n",
       "      <th>Max Temp</th>\n",
       "      <th>Humidity</th>\n",
       "      <th>Cloudiness</th>\n",
       "      <th>Wind Speed</th>\n",
       "      <th>Country</th>\n",
       "      <th>Date</th>\n",
       "    </tr>\n",
       "  </thead>\n",
       "  <tbody>\n",
       "    <tr>\n",
       "      <th>0</th>\n",
       "      <td>Codrington</td>\n",
       "      <td>-38.2667</td>\n",
       "      <td>141.9667</td>\n",
       "      <td>50.68</td>\n",
       "      <td>86</td>\n",
       "      <td>50</td>\n",
       "      <td>15.28</td>\n",
       "      <td>AU</td>\n",
       "      <td>10-19-2021</td>\n",
       "    </tr>\n",
       "    <tr>\n",
       "      <th>1</th>\n",
       "      <td>Westerland</td>\n",
       "      <td>54.9079</td>\n",
       "      <td>8.3033</td>\n",
       "      <td>59.18</td>\n",
       "      <td>100</td>\n",
       "      <td>90</td>\n",
       "      <td>21.85</td>\n",
       "      <td>DE</td>\n",
       "      <td>10-19-2021</td>\n",
       "    </tr>\n",
       "    <tr>\n",
       "      <th>2</th>\n",
       "      <td>Cape Town</td>\n",
       "      <td>-33.9258</td>\n",
       "      <td>18.4232</td>\n",
       "      <td>66.34</td>\n",
       "      <td>61</td>\n",
       "      <td>0</td>\n",
       "      <td>1.99</td>\n",
       "      <td>ZA</td>\n",
       "      <td>10-19-2021</td>\n",
       "    </tr>\n",
       "    <tr>\n",
       "      <th>3</th>\n",
       "      <td>Kulhudhuffushi</td>\n",
       "      <td>6.6221</td>\n",
       "      <td>73.0700</td>\n",
       "      <td>81.88</td>\n",
       "      <td>74</td>\n",
       "      <td>44</td>\n",
       "      <td>11.25</td>\n",
       "      <td>MV</td>\n",
       "      <td>10-19-2021</td>\n",
       "    </tr>\n",
       "    <tr>\n",
       "      <th>4</th>\n",
       "      <td>Atuona</td>\n",
       "      <td>-9.8000</td>\n",
       "      <td>-139.0333</td>\n",
       "      <td>78.39</td>\n",
       "      <td>75</td>\n",
       "      <td>26</td>\n",
       "      <td>21.00</td>\n",
       "      <td>PF</td>\n",
       "      <td>10-19-2021</td>\n",
       "    </tr>\n",
       "    <tr>\n",
       "      <th>...</th>\n",
       "      <td>...</td>\n",
       "      <td>...</td>\n",
       "      <td>...</td>\n",
       "      <td>...</td>\n",
       "      <td>...</td>\n",
       "      <td>...</td>\n",
       "      <td>...</td>\n",
       "      <td>...</td>\n",
       "      <td>...</td>\n",
       "    </tr>\n",
       "    <tr>\n",
       "      <th>559</th>\n",
       "      <td>Ile-Ife</td>\n",
       "      <td>7.4667</td>\n",
       "      <td>4.5667</td>\n",
       "      <td>73.63</td>\n",
       "      <td>96</td>\n",
       "      <td>72</td>\n",
       "      <td>2.98</td>\n",
       "      <td>NG</td>\n",
       "      <td>10-19-2021</td>\n",
       "    </tr>\n",
       "    <tr>\n",
       "      <th>560</th>\n",
       "      <td>Constitución</td>\n",
       "      <td>-35.3333</td>\n",
       "      <td>-72.4167</td>\n",
       "      <td>66.02</td>\n",
       "      <td>58</td>\n",
       "      <td>4</td>\n",
       "      <td>5.99</td>\n",
       "      <td>CL</td>\n",
       "      <td>10-19-2021</td>\n",
       "    </tr>\n",
       "    <tr>\n",
       "      <th>561</th>\n",
       "      <td>Sambava</td>\n",
       "      <td>-14.2667</td>\n",
       "      <td>50.1667</td>\n",
       "      <td>72.81</td>\n",
       "      <td>83</td>\n",
       "      <td>63</td>\n",
       "      <td>7.78</td>\n",
       "      <td>MG</td>\n",
       "      <td>10-19-2021</td>\n",
       "    </tr>\n",
       "    <tr>\n",
       "      <th>562</th>\n",
       "      <td>Trojes</td>\n",
       "      <td>41.7560</td>\n",
       "      <td>19.9620</td>\n",
       "      <td>52.29</td>\n",
       "      <td>69</td>\n",
       "      <td>18</td>\n",
       "      <td>4.79</td>\n",
       "      <td>AL</td>\n",
       "      <td>10-19-2021</td>\n",
       "    </tr>\n",
       "    <tr>\n",
       "      <th>563</th>\n",
       "      <td>Oberá</td>\n",
       "      <td>-27.4871</td>\n",
       "      <td>-55.1199</td>\n",
       "      <td>76.86</td>\n",
       "      <td>38</td>\n",
       "      <td>1</td>\n",
       "      <td>6.73</td>\n",
       "      <td>AR</td>\n",
       "      <td>10-19-2021</td>\n",
       "    </tr>\n",
       "  </tbody>\n",
       "</table>\n",
       "<p>564 rows × 9 columns</p>\n",
       "</div>"
      ],
      "text/plain": [
       "               City      Lat       Lng  Max Temp  Humidity  Cloudiness  \\\n",
       "0        Codrington -38.2667  141.9667     50.68        86          50   \n",
       "1        Westerland  54.9079    8.3033     59.18       100          90   \n",
       "2         Cape Town -33.9258   18.4232     66.34        61           0   \n",
       "3    Kulhudhuffushi   6.6221   73.0700     81.88        74          44   \n",
       "4            Atuona  -9.8000 -139.0333     78.39        75          26   \n",
       "..              ...      ...       ...       ...       ...         ...   \n",
       "559         Ile-Ife   7.4667    4.5667     73.63        96          72   \n",
       "560    Constitución -35.3333  -72.4167     66.02        58           4   \n",
       "561         Sambava -14.2667   50.1667     72.81        83          63   \n",
       "562          Trojes  41.7560   19.9620     52.29        69          18   \n",
       "563           Oberá -27.4871  -55.1199     76.86        38           1   \n",
       "\n",
       "     Wind Speed Country        Date  \n",
       "0         15.28      AU  10-19-2021  \n",
       "1         21.85      DE  10-19-2021  \n",
       "2          1.99      ZA  10-19-2021  \n",
       "3         11.25      MV  10-19-2021  \n",
       "4         21.00      PF  10-19-2021  \n",
       "..          ...     ...         ...  \n",
       "559        2.98      NG  10-19-2021  \n",
       "560        5.99      CL  10-19-2021  \n",
       "561        7.78      MG  10-19-2021  \n",
       "562        4.79      AL  10-19-2021  \n",
       "563        6.73      AR  10-19-2021  \n",
       "\n",
       "[564 rows x 9 columns]"
      ]
     },
     "execution_count": 2,
     "metadata": {},
     "output_type": "execute_result"
    }
   ],
   "source": [
    "cities_df = pd.read_csv(\"../output_data/city_data.csv\")\n",
    "\n",
    "cities_df"
   ]
  },
  {
   "cell_type": "markdown",
   "metadata": {},
   "source": [
    "### Humidity Heatmap\n",
    "* Configure gmaps.\n",
    "* Use the Lat and Lng as locations and Humidity as the weight.\n",
    "* Add Heatmap layer to map."
   ]
  },
  {
   "cell_type": "code",
   "execution_count": 4,
   "metadata": {},
   "outputs": [],
   "source": [
    "gmaps.configure(api_key = g_key)"
   ]
  },
  {
   "cell_type": "code",
   "execution_count": 6,
   "metadata": {},
   "outputs": [
    {
     "data": {
      "application/vnd.jupyter.widget-view+json": {
       "model_id": "527466c80583466ba7023212f9a0574d",
       "version_major": 2,
       "version_minor": 0
      },
      "text/plain": [
       "Figure(layout=FigureLayout(height='420px'))"
      ]
     },
     "metadata": {},
     "output_type": "display_data"
    }
   ],
   "source": [
    "#variables\n",
    "locations = cities_df[[\"Lat\", \"Lng\"]]\n",
    "humidity = cities_df[\"Humidity\"].astype(float)\n",
    "humidity_heat_fig = gmaps.figure(center=(16.522731, -5.042275), zoom_level=2)\n",
    "\n",
    "heat_layer = gmaps.heatmap_layer(locations, weights=humidity, dissipating=False, max_intensity=100, point_radius=3)\n",
    "\n",
    "humidity_heat_fig.add_layer(heat_layer)\n",
    "\n",
    "humidity_heat_fig"
   ]
  },
  {
   "cell_type": "markdown",
   "metadata": {},
   "source": [
    "### Create new DataFrame fitting weather criteria\n",
    "* Narrow down the cities to fit weather conditions.\n",
    "* Drop any rows will null values."
   ]
  },
  {
   "cell_type": "code",
   "execution_count": null,
   "metadata": {},
   "outputs": [],
   "source": []
  },
  {
   "cell_type": "markdown",
   "metadata": {},
   "source": [
    "### Hotel Map\n",
    "* Store into variable named `hotel_df`.\n",
    "* Add a \"Hotel Name\" column to the DataFrame.\n",
    "* Set parameters to search for hotels with 5000 meters.\n",
    "* Hit the Google Places API for each city's coordinates.\n",
    "* Store the first Hotel result into the DataFrame.\n",
    "* Plot markers on top of the heatmap."
   ]
  },
  {
   "cell_type": "code",
   "execution_count": null,
   "metadata": {},
   "outputs": [],
   "source": []
  },
  {
   "cell_type": "code",
   "execution_count": null,
   "metadata": {},
   "outputs": [],
   "source": []
  },
  {
   "cell_type": "code",
   "execution_count": null,
   "metadata": {},
   "outputs": [],
   "source": [
    "# NOTE: Do not change any of the code in this cell\n",
    "\n",
    "# Using the template add the hotel marks to the heatmap\n",
    "info_box_template = \"\"\"\n",
    "<dl>\n",
    "<dt>Name</dt><dd>{Hotel Name}</dd>\n",
    "<dt>City</dt><dd>{City}</dd>\n",
    "<dt>Country</dt><dd>{Country}</dd>\n",
    "</dl>\n",
    "\"\"\"\n",
    "# Store the DataFrame Row\n",
    "# NOTE: be sure to update with your DataFrame name\n",
    "hotel_info = [info_box_template.format(**row) for index, row in hotel_df.iterrows()]\n",
    "locations = hotel_df[[\"Lat\", \"Lng\"]]"
   ]
  },
  {
   "cell_type": "code",
   "execution_count": null,
   "metadata": {},
   "outputs": [],
   "source": [
    "# Add marker layer ontop of heat map\n",
    "\n",
    "\n",
    "# Display figure\n"
   ]
  },
  {
   "cell_type": "code",
   "execution_count": null,
   "metadata": {},
   "outputs": [],
   "source": []
  }
 ],
 "metadata": {
  "kernelspec": {
   "display_name": "Python 3",
   "language": "python",
   "name": "python3"
  },
  "language_info": {
   "codemirror_mode": {
    "name": "ipython",
    "version": 3
   },
   "file_extension": ".py",
   "mimetype": "text/x-python",
   "name": "python",
   "nbconvert_exporter": "python",
   "pygments_lexer": "ipython3",
   "version": "3.8.8"
  },
  "latex_envs": {
   "LaTeX_envs_menu_present": true,
   "autoclose": false,
   "autocomplete": true,
   "bibliofile": "biblio.bib",
   "cite_by": "apalike",
   "current_citInitial": 1,
   "eqLabelWithNumbers": true,
   "eqNumInitial": 1,
   "hotkeys": {
    "equation": "Ctrl-E",
    "itemize": "Ctrl-I"
   },
   "labels_anchors": false,
   "latex_user_defs": false,
   "report_style_numbering": false,
   "user_envs_cfg": false
  }
 },
 "nbformat": 4,
 "nbformat_minor": 4
}
